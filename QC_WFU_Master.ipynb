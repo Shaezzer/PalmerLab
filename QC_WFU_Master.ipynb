{
 "cells": [
  {
   "cell_type": "code",
   "execution_count": 1,
   "id": "b3f953a3",
   "metadata": {},
   "outputs": [],
   "source": [
    "import pandas as pd\n",
    "import numpy as np\n",
    "import os\n",
    "from datetime import datetime\n",
    "import datetime\n",
    "import psycopg2\n",
    "from sqlalchemy import create_engine\n",
    "import sqlalchemy\n",
    "import matplotlib.pyplot as plt\n",
    "import seaborn as sns"
   ]
  },
  {
   "cell_type": "code",
   "execution_count": 2,
   "id": "5ccf8348",
   "metadata": {
    "scrolled": true
   },
   "outputs": [],
   "source": [
    "projects = ['p50_david_dietz_2020','p50_hao_chen_2020','p50_hao_chen_2020_rnaseq','p50_paul_meyer_2020',\n",
    "            'u01_olivier_george_cocaine', 'u01_olivier_george_oxycodone', 'u01_olivier_george_scrub',\n",
    "            'u01_peter_kalivas_italy', 'u01_peter_kalivas_us', 'u01_suzanne_mitchell', 'u01_tom_jhou' ]\n",
    "def runQuery(query):\n",
    "\n",
    "    cursor = connection.cursor()\n",
    "    if \"SELECT\" in query:\n",
    "        table = pd.read_sql(query, con = connection)\n",
    "    elif \"UPDATE\" in query:\n",
    "        cursor.execute(query)\n",
    "        print(query)\n",
    "        connection.commit()\n",
    "    elif \"DELETE\" in query:\n",
    "        cursor.execute(query)\n",
    "        print(query)\n",
    "        connection.commit()\n",
    "    else:\n",
    "        return None\n",
    "    if connection:\n",
    "        cursor.close()\n",
    "        connection.close()\n",
    "        if \"SELECT\" in query:\n",
    "            return table\n",
    "        else:\n",
    "            return\n",
    "#change project here\n",
    "current_project = projects[8]\n",
    "data = runQuery(\"SELECT * FROM \" + current_project + \".wfu_master\")\n",
    "data = data.replace('nan', np.nan)\n"
   ]
  },
  {
   "cell_type": "code",
   "execution_count": 3,
   "id": "87892b82",
   "metadata": {
    "scrolled": false
   },
   "outputs": [
    {
     "name": "stdout",
     "output_type": "stream",
     "text": [
      "Column headers for: u01_peter_kalivas_us\n",
      "cohort\n",
      "sires\n",
      "dames\n",
      "labanimalid\n",
      "accessid\n",
      "sex\n",
      "rfid\n",
      "dob\n",
      "dow\n",
      "shipmentdate\n",
      "litternumber\n",
      "littersize\n",
      "coatcolor\n",
      "earpunch\n",
      "rack\n",
      "shipmentbox\n",
      "shipmentage\n",
      "weanage\n",
      "comments\n",
      "resolution\n"
     ]
    }
   ],
   "source": [
    "#Check column headers\n",
    "#if there is a non'normal' column header make note of it\n",
    "#if one of the normal column headers is missing make note of it\n",
    "def column_qc():\n",
    "    print(\"Column headers for: \"+ current_project)\n",
    "    for column in data.columns:\n",
    "        print(column)\n",
    "    common_headers = ['cohort','sires','dames','labanimalid','accessid','sex','rfid','dob','dow','shipmentdate',\n",
    "                      'litternumber','littersize','coatcolor','earpunch','rack','shipmentbox','shipmentage','weanage',\n",
    "                      'comments','resolution']\n",
    "    #find any odd column headers\n",
    "    for column in data.columns:\n",
    "        if column not in common_headers:\n",
    "            print(\"\\nNon uniform column headers:\")\n",
    "            print(column)\n",
    "    for column in common_headers:\n",
    "        if column not in data.columns:\n",
    "            print(\"\\nMissing uniform column header:\")\n",
    "            print(column)\n",
    "column_qc()"
   ]
  },
  {
   "cell_type": "code",
   "execution_count": 4,
   "id": "42f289cd",
   "metadata": {},
   "outputs": [
    {
     "data": {
      "text/plain": [
       "640"
      ]
     },
     "execution_count": 4,
     "metadata": {},
     "output_type": "execute_result"
    }
   ],
   "source": [
    "#count the numbe of unique rfid in sheet\n",
    "len(data.rfid.unique())"
   ]
  },
  {
   "cell_type": "code",
   "execution_count": 5,
   "id": "31f41834",
   "metadata": {},
   "outputs": [],
   "source": [
    "#data = data.fillna(value=np.nan)\n"
   ]
  },
  {
   "cell_type": "code",
   "execution_count": 6,
   "id": "3b2d408d",
   "metadata": {},
   "outputs": [
    {
     "name": "stdout",
     "output_type": "stream",
     "text": [
      "Incorrect Wean Age:\n"
     ]
    },
    {
     "data": {
      "text/html": [
       "<div>\n",
       "<style scoped>\n",
       "    .dataframe tbody tr th:only-of-type {\n",
       "        vertical-align: middle;\n",
       "    }\n",
       "\n",
       "    .dataframe tbody tr th {\n",
       "        vertical-align: top;\n",
       "    }\n",
       "\n",
       "    .dataframe thead th {\n",
       "        text-align: right;\n",
       "    }\n",
       "</style>\n",
       "<table border=\"1\" class=\"dataframe\">\n",
       "  <thead>\n",
       "    <tr style=\"text-align: right;\">\n",
       "      <th></th>\n",
       "      <th>cohort</th>\n",
       "      <th>sires</th>\n",
       "      <th>dames</th>\n",
       "      <th>labanimalid</th>\n",
       "      <th>accessid</th>\n",
       "      <th>sex</th>\n",
       "      <th>rfid</th>\n",
       "      <th>dob</th>\n",
       "      <th>dow</th>\n",
       "      <th>shipmentdate</th>\n",
       "      <th>...</th>\n",
       "      <th>littersize</th>\n",
       "      <th>coatcolor</th>\n",
       "      <th>earpunch</th>\n",
       "      <th>rack</th>\n",
       "      <th>shipmentbox</th>\n",
       "      <th>shipmentage</th>\n",
       "      <th>weanage</th>\n",
       "      <th>comments</th>\n",
       "      <th>resolution</th>\n",
       "      <th>calculated_weanage</th>\n",
       "    </tr>\n",
       "  </thead>\n",
       "  <tbody>\n",
       "  </tbody>\n",
       "</table>\n",
       "<p>0 rows × 21 columns</p>\n",
       "</div>"
      ],
      "text/plain": [
       "Empty DataFrame\n",
       "Columns: [cohort, sires, dames, labanimalid, accessid, sex, rfid, dob, dow, shipmentdate, litternumber, littersize, coatcolor, earpunch, rack, shipmentbox, shipmentage, weanage, comments, resolution, calculated_weanage]\n",
       "Index: []\n",
       "\n",
       "[0 rows x 21 columns]"
      ]
     },
     "execution_count": 6,
     "metadata": {},
     "output_type": "execute_result"
    }
   ],
   "source": [
    "#Calculate the weanage based on dob and dow and compare to weanage given in table\n",
    "#data[['dob','dow','weanage']]\n",
    "data['calculated_weanage'] = (data['dow'] - data['dob']).dt.days\n",
    "#data[['calculated_weanage']]\n",
    "print('Incorrect Wean Age:')\n",
    "incorrect_weanage = data.loc[~(data['calculated_weanage'] == data['weanage'])]\n",
    "incorrect_weanage = incorrect_weanage.astype(str)\n",
    "#drop values where no weanage was able to be calculated\n",
    "incorrect_weanage = incorrect_weanage[incorrect_weanage.calculated_weanage != 'nan']\n",
    "incorrect_weanage"
   ]
  },
  {
   "cell_type": "code",
   "execution_count": 7,
   "id": "0cbe8aeb",
   "metadata": {},
   "outputs": [
    {
     "data": {
      "text/plain": [
       "21.0    515\n",
       "20.0     56\n",
       "22.0     46\n",
       "23.0     23\n",
       "Name: weanage, dtype: int64"
      ]
     },
     "execution_count": 7,
     "metadata": {},
     "output_type": "execute_result"
    }
   ],
   "source": [
    "data.weanage.value_counts()"
   ]
  },
  {
   "cell_type": "code",
   "execution_count": 8,
   "id": "17e22a24",
   "metadata": {},
   "outputs": [],
   "source": [
    "#Update Weanage in data base\n",
    "\n",
    "\n",
    "def update_weanage():\n",
    "    table_name = \"p50_paul_meyer_2020.wfu_master\"\n",
    "    for index,row in incorrect_weanage.iterrows():\n",
    "    #df.set_index('dob').to_dict()['dow']\n",
    "        query = \"UPDATE \" + table_name\n",
    "        query = query + \" SET \" + \"weanage = \" + row['calculated_weanage']\n",
    "        query = query + \" WHERE \" + \"rfid = '\"+ row['rfid'] + \"'\" \n",
    "        #print(query)\n",
    "        runQuery(query)\n",
    "#update_weanage()\n",
    "#UPDATE ... SET weanage = row[\"calculated_weanage\"] WHERE rfid = row[\"rfid\"]"
   ]
  },
  {
   "cell_type": "code",
   "execution_count": 9,
   "id": "3fc88683",
   "metadata": {},
   "outputs": [
    {
     "name": "stdout",
     "output_type": "stream",
     "text": [
      "Incorrect Shipment Age:\n"
     ]
    },
    {
     "data": {
      "text/html": [
       "<div>\n",
       "<style scoped>\n",
       "    .dataframe tbody tr th:only-of-type {\n",
       "        vertical-align: middle;\n",
       "    }\n",
       "\n",
       "    .dataframe tbody tr th {\n",
       "        vertical-align: top;\n",
       "    }\n",
       "\n",
       "    .dataframe thead th {\n",
       "        text-align: right;\n",
       "    }\n",
       "</style>\n",
       "<table border=\"1\" class=\"dataframe\">\n",
       "  <thead>\n",
       "    <tr style=\"text-align: right;\">\n",
       "      <th></th>\n",
       "      <th>cohort</th>\n",
       "      <th>sires</th>\n",
       "      <th>dames</th>\n",
       "      <th>labanimalid</th>\n",
       "      <th>accessid</th>\n",
       "      <th>sex</th>\n",
       "      <th>rfid</th>\n",
       "      <th>dob</th>\n",
       "      <th>dow</th>\n",
       "      <th>shipmentdate</th>\n",
       "      <th>...</th>\n",
       "      <th>coatcolor</th>\n",
       "      <th>earpunch</th>\n",
       "      <th>rack</th>\n",
       "      <th>shipmentbox</th>\n",
       "      <th>shipmentage</th>\n",
       "      <th>weanage</th>\n",
       "      <th>comments</th>\n",
       "      <th>resolution</th>\n",
       "      <th>calculated_weanage</th>\n",
       "      <th>calculated_shipage</th>\n",
       "    </tr>\n",
       "  </thead>\n",
       "  <tbody>\n",
       "  </tbody>\n",
       "</table>\n",
       "<p>0 rows × 22 columns</p>\n",
       "</div>"
      ],
      "text/plain": [
       "Empty DataFrame\n",
       "Columns: [cohort, sires, dames, labanimalid, accessid, sex, rfid, dob, dow, shipmentdate, litternumber, littersize, coatcolor, earpunch, rack, shipmentbox, shipmentage, weanage, comments, resolution, calculated_weanage, calculated_shipage]\n",
       "Index: []\n",
       "\n",
       "[0 rows x 22 columns]"
      ]
     },
     "execution_count": 9,
     "metadata": {},
     "output_type": "execute_result"
    }
   ],
   "source": [
    "#calculate the shipment age based on dob and shipmentdate then compare to shipment age given\n",
    "data['calculated_shipage'] = (data['shipmentdate'] - data['dob']).dt.days\n",
    "data[['calculated_shipage']]\n",
    "incorrect_shipmentage = data.loc[~(data['calculated_shipage'] == data['shipmentage'])].dropna()\n",
    "print('Incorrect Shipment Age:')\n",
    "incorrect_shipmentage"
   ]
  },
  {
   "cell_type": "code",
   "execution_count": 10,
   "id": "3da1e7f1",
   "metadata": {},
   "outputs": [
    {
     "name": "stdout",
     "output_type": "stream",
     "text": [
      "Number of cohorts for u01_peter_kalivas_us:\n"
     ]
    },
    {
     "data": {
      "text/plain": [
       "16"
      ]
     },
     "metadata": {},
     "output_type": "display_data"
    },
    {
     "name": "stdout",
     "output_type": "stream",
     "text": [
      "Cohorts for u01_peter_kalivas_us and the number of subjects in each:\n"
     ]
    },
    {
     "data": {
      "text/plain": [
       "C01    40\n",
       "C02    40\n",
       "C03    40\n",
       "C04    40\n",
       "C05    40\n",
       "C06    40\n",
       "C07    40\n",
       "C08    40\n",
       "C09    40\n",
       "C10    40\n",
       "C11    40\n",
       "C12    40\n",
       "C13    40\n",
       "C14    40\n",
       "C15    40\n",
       "C16    40\n",
       "Name: cohort, dtype: int64"
      ]
     },
     "metadata": {},
     "output_type": "display_data"
    },
    {
     "data": {
      "image/png": "[encoded data removed]",
      "text/plain": [
       "<Figure size 432x288 with 1 Axes>"
      ]
     },
     "metadata": {
      "needs_background": "light"
     },
     "output_type": "display_data"
    }
   ],
   "source": [
    "#Check the amount of subjects in each cohort\n",
    "#order_bin = pd.value_counts(data['cohort']).sort_index().index\n",
    "\n",
    "def cohorts(data):\n",
    "    print(\"Number of cohorts for \" + current_project + \":\")\n",
    "    display(len(data['cohort'].value_counts().sort_index()))\n",
    "    print(\"Cohorts for \" + current_project + \" and the number of subjects in each:\")\n",
    "    display(data['cohort'].value_counts().sort_index())\n",
    "    bins = len(data['cohort'].unique())\n",
    "    \n",
    "\n",
    "    plt.title('Subjects in Cohort')\n",
    "    plt.xlabel('cohort')\n",
    "    plt.ylabel('count')\n",
    "    plt.xticks(rotation = 40)\n",
    "    plt.hist(data['cohort'], bins = bins)    \n",
    "    plt.show() \n",
    "cohorts(data)"
   ]
  },
  {
   "cell_type": "code",
   "execution_count": 11,
   "id": "4d422f89",
   "metadata": {},
   "outputs": [
    {
     "name": "stdout",
     "output_type": "stream",
     "text": [
      "C01 sires total 40 unique 21\n",
      "C01 dames total 40 unique 21\n",
      "C02 sires total 40 unique 22\n",
      "C02 dames total 40 unique 22\n",
      "C03 sires total 40 unique 21\n",
      "C03 dames total 40 unique 21\n",
      "C04 sires total 40 unique 22\n",
      "C04 dames total 40 unique 22\n",
      "C05 sires total 40 unique 21\n",
      "C05 dames total 40 unique 21\n",
      "C06 sires total 40 unique 20\n",
      "C06 dames total 40 unique 20\n",
      "C07 sires total 40 unique 21\n",
      "C07 dames total 40 unique 21\n",
      "C08 sires total 40 unique 22\n",
      "C08 dames total 40 unique 22\n",
      "C09 sires total 40 unique 21\n",
      "C09 dames total 40 unique 21\n",
      "C10 sires total 40 unique 22\n",
      "C10 dames total 40 unique 22\n",
      "C11 sires total 40 unique 20\n",
      "C11 dames total 40 unique 20\n",
      "C12 sires total 40 unique 22\n",
      "C12 dames total 40 unique 22\n",
      "C13 sires total 40 unique 21\n",
      "C13 dames total 40 unique 21\n",
      "C14 sires total 40 unique 22\n",
      "C14 dames total 40 unique 22\n",
      "C15 sires total 40 unique 20\n",
      "C15 dames total 40 unique 20\n",
      "C16 sires total 40 unique 23\n",
      "C16 dames total 40 unique 23\n",
      "\n",
      "parent pairs 357 \n",
      "\n",
      "parent pair across multiple cohorts found ['C03', 'C04']\n",
      "parent pair across multiple cohorts found ['C09', 'C11']\n",
      "parent pair across multiple cohorts found ['C11', 'C12']\n",
      "\n",
      "No rfids labeled as both a sire and a dame\n",
      "Missing Parents:\n"
     ]
    },
    {
     "data": {
      "text/html": [
       "<div>\n",
       "<style scoped>\n",
       "    .dataframe tbody tr th:only-of-type {\n",
       "        vertical-align: middle;\n",
       "    }\n",
       "\n",
       "    .dataframe tbody tr th {\n",
       "        vertical-align: top;\n",
       "    }\n",
       "\n",
       "    .dataframe thead th {\n",
       "        text-align: right;\n",
       "    }\n",
       "</style>\n",
       "<table border=\"1\" class=\"dataframe\">\n",
       "  <thead>\n",
       "    <tr style=\"text-align: right;\">\n",
       "      <th></th>\n",
       "      <th>cohort</th>\n",
       "      <th>sires</th>\n",
       "      <th>dames</th>\n",
       "      <th>labanimalid</th>\n",
       "      <th>accessid</th>\n",
       "      <th>sex</th>\n",
       "      <th>rfid</th>\n",
       "      <th>dob</th>\n",
       "      <th>dow</th>\n",
       "      <th>shipmentdate</th>\n",
       "      <th>...</th>\n",
       "      <th>coatcolor</th>\n",
       "      <th>earpunch</th>\n",
       "      <th>rack</th>\n",
       "      <th>shipmentbox</th>\n",
       "      <th>shipmentage</th>\n",
       "      <th>weanage</th>\n",
       "      <th>comments</th>\n",
       "      <th>resolution</th>\n",
       "      <th>calculated_weanage</th>\n",
       "      <th>calculated_shipage</th>\n",
       "    </tr>\n",
       "  </thead>\n",
       "  <tbody>\n",
       "  </tbody>\n",
       "</table>\n",
       "<p>0 rows × 22 columns</p>\n",
       "</div>"
      ],
      "text/plain": [
       "Empty DataFrame\n",
       "Columns: [cohort, sires, dames, labanimalid, accessid, sex, rfid, dob, dow, shipmentdate, litternumber, littersize, coatcolor, earpunch, rack, shipmentbox, shipmentage, weanage, comments, resolution, calculated_weanage, calculated_shipage]\n",
       "Index: []\n",
       "\n",
       "[0 rows x 22 columns]"
      ]
     },
     "metadata": {},
     "output_type": "display_data"
    }
   ],
   "source": [
    "#count the number of sires and dames in each cohort\n",
    "#count how many of those sires and dames are unique meaning that multiple sires and dames had more than one child\n",
    "#check how many parent pairs there are\n",
    "#Check how many parent pairs are present in multiple cohorts\n",
    "#check if there is an rfid labeled as both a sire and a dame\n",
    "def qc_pedigree(data):\n",
    "    sires = list(data[\"sires\"])\n",
    "    dames = list(data[\"dames\"])\n",
    "    \n",
    "    data = data.sort_values([\"cohort\", \"labanimalid\"])\n",
    "\n",
    "    # Printing number of mothers and fathers per cohort\n",
    "    unique_sires = []\n",
    "    unique_dames = []\n",
    "    for cohort in np.unique(data[\"cohort\"]):\n",
    "        subset = data[data[\"cohort\"] == cohort]\n",
    "        sires = list(subset[\"sires\"])\n",
    "        dames = list(subset[\"dames\"])\n",
    "        unique_sires.append(len(set(sires)))\n",
    "        unique_dames.append(len(set(dames)))\n",
    "        print(cohort, \"sires\", \"total\", len(sires), \"unique\", len(set(sires)))\n",
    "        print(cohort, \"dames\", \"total\", len(dames), \"unique\", len(set(dames)))\n",
    "#     plot_list = {'Sires':unique_sires,'Dames':unique_dames}\n",
    "#     bins = len(data['cohort'].unique())\n",
    "#     for name,value in plot_list.items():\n",
    "#         plt.title(name)\n",
    "#         plt.xlabel('unique subjects')\n",
    "#         plt.ylabel('count')\n",
    "#         plt.xticks(rotation = 40)\n",
    "#         plt.hist(value, bins = bins)    \n",
    "#         plt.show()\n",
    "    # Printing animals listed as mother and father\n",
    "\n",
    "    #print(\"sires\", len(set(sires)), \"dames\", len(set(dames)), \"overlap\", len(overlap))\n",
    "\n",
    "    # Checking sibling numbers\n",
    "    parents_dict = {}\n",
    "    parents_litter_birth = {}\n",
    "    dob = []\n",
    "    litter = []\n",
    "    parents_df = pd.DataFrame()\n",
    "    for index, row in data.iterrows():\n",
    "        parents = (row[\"sires\"], row[\"dames\"])\n",
    "        \n",
    "        if parents in parents_dict.keys():\n",
    "            parents_dict[parents].append(row[\"rfid\"])\n",
    "            parents_litter_birth[parents].append(row[\"dob\"])\n",
    "        else:\n",
    "            dob.append(row['dob'])\n",
    "            litter.append(row['littersize'])\n",
    "            parents_dict[parents] = [row[\"rfid\"]]\n",
    "            parents_litter_birth[parents] = [row[\"dob\"]]\n",
    "            parents_df = parents_df.append({'sires':row[\"sires\"],'dames':row[\"dames\"]},ignore_index = True)\n",
    "    print(\"\\nparent pairs\",len(parents_dict.keys()), '\\n')\n",
    "    siblings = []\n",
    "    for parents in parents_dict.keys():\n",
    "        #print(parents, len(parents_dict[parents]))#, parents_dict[parents])\n",
    "        siblings.append(len(parents_dict[parents]))\n",
    "        cohorts = []\n",
    "        for rfid in parents_dict[parents]:\n",
    "            subset = data[data[\"rfid\"] == rfid]\n",
    "            subset.index = range(subset.shape[0])\n",
    "            i_cohort = list(subset.columns).index(\"cohort\")\n",
    "            cohorts.append(subset.iloc[0, i_cohort])\n",
    "        cohorts = list(np.unique(cohorts))\n",
    "        if len(cohorts) != 1:\n",
    "            print(\"parent pair across multiple cohorts found\", cohorts)\n",
    "    parents_df['siblings'] = siblings\n",
    "    parents_df['dob'] = dob\n",
    "    parents_df['litter_size'] = litter\n",
    "    #parents_df['removed_litter'] = parents_df['litter_size'] - parents_df['siblings']\n",
    "    \n",
    "\n",
    "        \n",
    "    #Check if there are any matching ids between sires and dames\n",
    "    overlap = set(dames).intersection(set(sires))\n",
    "    if len(list(overlap)) > 0:\n",
    "        print(\"\\nError: listed as dame and sire\", list(overlap))\n",
    "    elif len(list(overlap)) == 0:\n",
    "        print('\\nNo rfids labeled as both a sire and a dame')\n",
    "    mislabeled_df = pd.DataFrame()\n",
    "    unique_sires = data.sires.unique()\n",
    "    unique_dames = data.dames.unique()\n",
    "    mislabeled = [x for x in unique_sires if x in unique_dames]\n",
    "    if len(overlap) > 0:\n",
    "        mislabeled_nan_sires = data[data['sires'].isnull()]\n",
    "        mislabeled_nan_dames = data[data['dames'].isnull()]\n",
    "        mislabeled_nan = pd.concat([mislabeled_nan_sires,mislabeled_nan_dames]).drop_duplicates().reset_index(drop=True)\n",
    "        if len(mislabeled_nan.index) > 0:\n",
    "            print('\\nMissing Sires/Dames for ' + current_project)\n",
    "            display(mislabeled_nan)\n",
    "        for rfid in mislabeled:\n",
    "            mislabeled_df.append(data.loc[data['sires'] == rfid])\n",
    "            mislabeled_df.append(data.loc[data['dames'] == rfid])\n",
    "        if len(mislabeled_df.dropna().index) > 0:\n",
    "            print('Mislabeled Sires/Dames')\n",
    "            display(mislabeled_df.dropna())\n",
    "        \n",
    "    \n",
    "    \n",
    "    #print(parents_df)\n",
    "    #print(parents_df.litter_size.unique())\n",
    "    #print(data.littersize.unique())\n",
    "    #print(parents_df.removed_litter.unique())\n",
    "    #df_litter_error = parents_df[(parents_df['removed_litter'] <= 0)]\n",
    "    df_missing_sires = data[data.sires == 'None']\n",
    "    df_missing_dames = data[data.dames == 'None']\n",
    "    df_missing = pd.concat([df_missing_sires,df_missing_dames]).drop_duplicates().reset_index(drop=True)\n",
    "    print('Missing Parents:')\n",
    "    display(df_missing)\n",
    "    #display(df_missing.rfid.unique())\n",
    "    #print(parents_litter_birth)\n",
    "    return\n",
    "qc_pedigree(data)\n"
   ]
  },
  {
   "cell_type": "code",
   "execution_count": 12,
   "id": "9bf9c1d9",
   "metadata": {},
   "outputs": [],
   "source": [
    "#trying to find mislabeled sire/dame wont come up\n",
    "#data.loc[((data.sires == '76268_2') | (data.dames == '76268_2'))]"
   ]
  },
  {
   "cell_type": "code",
   "execution_count": 13,
   "id": "cbdb56ba",
   "metadata": {},
   "outputs": [
    {
     "name": "stdout",
     "output_type": "stream",
     "text": [
      "C01 2018-12-23 2018-12-28 5 days, 0:00:00\n",
      "C02 2019-03-25 2019-04-03 9 days, 0:00:00\n",
      "C03 2019-06-24 2019-07-03 9 days, 0:00:00\n",
      "C04 2019-08-13 2019-08-22 9 days, 0:00:00\n",
      "C05 2019-11-03 2019-11-14 11 days, 0:00:00\n",
      "C12 2021-04-19 2021-04-30 11 days, 0:00:00\n",
      "C06 2020-01-14 2020-01-22 8 days, 0:00:00\n",
      "C13 2021-06-21 2021-07-01 10 days, 0:00:00\n",
      "C10 2020-12-26 2021-01-06 11 days, 0:00:00\n",
      "C11 2021-02-22 2021-03-05 11 days, 0:00:00\n",
      "C07 2020-06-09 2020-06-18 9 days, 0:00:00\n",
      "C08 2020-08-10 2020-08-20 10 days, 0:00:00\n",
      "C09 2020-10-31 2020-11-12 12 days, 0:00:00\n",
      "C14 2021-08-16 2021-08-26 10 days, 0:00:00\n",
      "C15 2021-10-31 2021-11-11 11 days, 0:00:00\n",
      "C16 2021-12-25 2022-01-06 12 days, 0:00:00\n"
     ]
    },
    {
     "data": {
      "image/png": "[encoded data removed]",
      "text/plain": [
       "<Figure size 432x288 with 1 Axes>"
      ]
     },
     "metadata": {
      "needs_background": "light"
     },
     "output_type": "display_data"
    }
   ],
   "source": [
    "#check the range of data of births per cohort\n",
    "#Split data based on cohorts\n",
    "#each cohort has their own df named after their cohort. Ex. C07\n",
    "def birth_range():\n",
    "    cohorts = data.cohort.unique()\n",
    "    for i in cohorts:\n",
    "        a = data[data.cohort == i]\n",
    "        globals()[f\"{i}\"] = a\n",
    "\n",
    "    #Check that the dob for each cohort is within a certain range\n",
    "    #right now just outputs the cohort with the day span\n",
    "    cohorts = data.cohort.unique()\n",
    "    dob_range = {}\n",
    "    for i in cohorts:\n",
    "        globals()[f\"dates_{i}\"] = globals()[f\"{i}\"].dob.unique()\n",
    "        youngest = min(globals()[f\"dates_{i}\"])\n",
    "        oldest = max(globals()[f\"dates_{i}\"])\n",
    "        difference = oldest - youngest\n",
    "        dob_range[i] = difference\n",
    "        print(i,youngest,oldest, difference)\n",
    "\n",
    "\n",
    "    dates = list(dob_range.values())\n",
    "    keys = list(dob_range.keys())\n",
    "    values = []\n",
    "    dates_1 = []\n",
    "    for date in dates:\n",
    "        values.append(date.days)\n",
    "    res = dict(zip(keys, values))\n",
    "    dob_range\n",
    "    sorted_dict = {k: res[k] for k in sorted(res)}\n",
    "    plt.bar(sorted_dict.keys(), sorted_dict.values(), color='g')\n",
    "    plt.title('Range of DOB per Cohort')\n",
    "    plt.xlabel('cohort')\n",
    "    plt.ylabel('days')\n",
    "    plt.xticks(rotation = 40)   \n",
    "    plt.show() \n",
    "birth_range()\n",
    "#dates"
   ]
  },
  {
   "cell_type": "code",
   "execution_count": 14,
   "id": "f5c2617b",
   "metadata": {},
   "outputs": [],
   "source": [
    "#fix errors from above \n",
    "#error: david_dietz mislabeled date \n",
    "def update_datetime():\n",
    "    table_name = \"p50_david_dietz_2020.wfu_master\"\n",
    "    update = ['dob'] \n",
    "    query = \"UPDATE \" + table_name\n",
    "    query = query + \" SET dob = '2020-12-31'\"\n",
    "    query = query + \" WHERE dob = '2021-12-31' AND cohort = 'C05'\"\n",
    "    print(query)\n",
    "    runQuery(query)\n",
    "\n",
    "\n",
    "#update_datetime()\n"
   ]
  },
  {
   "cell_type": "code",
   "execution_count": null,
   "id": "1104dfc6",
   "metadata": {},
   "outputs": [],
   "source": []
  },
  {
   "cell_type": "code",
   "execution_count": 15,
   "id": "3c36ac35",
   "metadata": {
    "scrolled": true
   },
   "outputs": [
    {
     "name": "stdout",
     "output_type": "stream",
     "text": [
      "Before Coat Color Normalization:\n"
     ]
    },
    {
     "data": {
      "text/plain": [
       "BROWNHOOD    145\n",
       "BLACK        144\n",
       "BLACKHOOD    143\n",
       "ALBINO       109\n",
       "BROWN         99\n",
       "Name: coatcolor, dtype: int64"
      ]
     },
     "metadata": {},
     "output_type": "display_data"
    },
    {
     "name": "stdout",
     "output_type": "stream",
     "text": [
      "After Coat Color Normalization:\n"
     ]
    },
    {
     "data": {
      "text/plain": [
       "BROWNHOOD    145\n",
       "BLACK        144\n",
       "BLACKHOOD    143\n",
       "ALBINO       109\n",
       "BROWN         99\n",
       "Name: coatcolor, dtype: int64"
      ]
     },
     "metadata": {},
     "output_type": "display_data"
    }
   ],
   "source": [
    "# Fixing coatcolor in sample_metadata\n",
    "def coat_color(data):\n",
    "    toFix = []\n",
    "    metadata = data\n",
    "    print(\"Before Coat Color Normalization:\")\n",
    "    display(data['coatcolor'].value_counts())\n",
    "\n",
    "    # metadata = select_wfu_master(\"u01_olivier_george_oxycodone\")\n",
    "    i_coatcolor = list(metadata.columns).index(\"coatcolor\")\n",
    "    for index, row in metadata.iterrows():\n",
    "        coatcolor = data.iloc[index, i_coatcolor]\n",
    "        if coatcolor == \"BLK HOOD\":\n",
    "            coatcolor = \"BLACKHOOD\"\n",
    "        elif coatcolor == \"BRN HOOD\":\n",
    "            coatcolor = \"BROWNHOOD\"\n",
    "        elif coatcolor == \"BEN HOOD\":\n",
    "            coatcolor = \"BROWNHOOD\"\n",
    "        elif coatcolor == \"ALIBINO\":\n",
    "            coatcolor = \"ALBINO\"\n",
    "        coatcolor = coatcolor.replace(\" \", \"\")\n",
    "        if coatcolor != metadata.iloc[index, i_coatcolor]:\n",
    "            toFix.append(index)\n",
    "            metadata.iloc[index, i_coatcolor] = coatcolor\n",
    "    metadata = metadata.iloc[toFix, :]\n",
    "    metadata.index = range(metadata.shape[0])\n",
    "    print(\"After Coat Color Normalization:\")\n",
    "    display(data['coatcolor'].value_counts())\n",
    "\n",
    "#     if len(metadata.index) > 0:\n",
    "#         print(\"Need to normalize following rows for coat color:\")\n",
    "#         display(metadata)\n",
    "coat_color(data)"
   ]
  },
  {
   "cell_type": "code",
   "execution_count": 16,
   "id": "e9dd0b9b",
   "metadata": {},
   "outputs": [],
   "source": [
    "#fix errors above in database\n",
    "#david dietz errors corrected\n",
    "def update_coatcolor():\n",
    "    table_name = \"p50_hao_chen_2020.wfu_master\"\n",
    "    update = ['dob']\n",
    "    wrong_colors = ['BRN HOOD','BLK HOOD','BLACK HOOD','BLACK ',\"ALIBINO\"]\n",
    "    right_colors = ['BROWNHOOD','BLACKHOOD',\"BLACKHOOD\",'BLACK','ALBINO']\n",
    "    color = dict(zip(wrong_colors, right_colors))\n",
    "    for key,value in color.items():\n",
    "        query = \"UPDATE \" + table_name\n",
    "        query = query + \" SET coatcolor = '\" + value + \"'\"\n",
    "        query = query + \" WHERE coatcolor = '\" + key + \"'\"\n",
    "        #print(query)\n",
    "        runQuery(query)\n",
    "#update_coatcolor()"
   ]
  },
  {
   "cell_type": "code",
   "execution_count": 17,
   "id": "31558af8",
   "metadata": {},
   "outputs": [
    {
     "data": {
      "image/png": "[encoded data removed]",
      "text/plain": [
       "<Figure size 432x288 with 1 Axes>"
      ]
     },
     "metadata": {
      "needs_background": "light"
     },
     "output_type": "display_data"
    },
    {
     "data": {
      "image/png": "[encoded data removed]",
      "text/plain": [
       "<Figure size 432x288 with 1 Axes>"
      ]
     },
     "metadata": {
      "needs_background": "light"
     },
     "output_type": "display_data"
    },
    {
     "data": {
      "image/png": "[encoded data removed]",
      "text/plain": [
       "<Figure size 432x288 with 1 Axes>"
      ]
     },
     "metadata": {
      "needs_background": "light"
     },
     "output_type": "display_data"
    },
    {
     "data": {
      "image/png": "[encoded data removed]",
      "text/plain": [
       "<Figure size 432x288 with 1 Axes>"
      ]
     },
     "metadata": {
      "needs_background": "light"
     },
     "output_type": "display_data"
    },
    {
     "data": {
      "image/png": "[encoded data removed]",
      "text/plain": [
       "<Figure size 432x288 with 1 Axes>"
      ]
     },
     "metadata": {
      "needs_background": "light"
     },
     "output_type": "display_data"
    },
    {
     "data": {
      "image/png": "[encoded data removed]",
      "text/plain": [
       "<Figure size 432x288 with 1 Axes>"
      ]
     },
     "metadata": {
      "needs_background": "light"
     },
     "output_type": "display_data"
    },
    {
     "data": {
      "image/png": "[encoded data removed]",
      "text/plain": [
       "<Figure size 432x288 with 1 Axes>"
      ]
     },
     "metadata": {
      "needs_background": "light"
     },
     "output_type": "display_data"
    },
    {
     "data": {
      "image/png": "[encoded data removed]",
      "text/plain": [
       "<Figure size 432x288 with 1 Axes>"
      ]
     },
     "metadata": {
      "needs_background": "light"
     },
     "output_type": "display_data"
    }
   ],
   "source": [
    "graph_columns = ['cohort','sex','dob','dow','coatcolor','weanage','littersize','litternumber']\n",
    "for col in graph_columns:\n",
    "    plt.title(col)\n",
    "    plt.xlabel('value')\n",
    "    plt.ylabel('count')\n",
    "    plt.xticks(rotation = 40)\n",
    "    plt.hist(data[col].dropna())\n",
    "    plt.show() "
   ]
  },
  {
   "cell_type": "code",
   "execution_count": 18,
   "id": "336f596f",
   "metadata": {},
   "outputs": [],
   "source": [
    "def qc_rfid(rfid, prefix, length):\n",
    "    # Checking if prefix is present\n",
    "    if rfid[:len(prefix)] != prefix:\n",
    "        return False\n",
    "    # Checking is rfid is correct length\n",
    "    elif len(rfid) != length:\n",
    "        return False\n",
    "    return True"
   ]
  },
  {
   "cell_type": "code",
   "execution_count": 19,
   "id": "4db8fe73",
   "metadata": {
    "scrolled": true
   },
   "outputs": [],
   "source": [
    "#Check to make sure rfid for the project contains the correct naming convention\n",
    "# project_metadata = pd.read_csv(\"project_metadata - project_metadata.csv\", dtype = str)\n",
    "# i_convention = list(project_metadata.columns).index(\"rfid_convention\")\n",
    "# for project in projects:\n",
    "#     print(project)\n",
    "#     data = runQuery(\"SELECT * FROM \" + project + \".wfu_master\")\n",
    "#     subset = project_metadata[project_metadata[\"project_name\"] == project]\n",
    "#     subset.index = range(subset.shape[0])\n",
    "#     convention_list = subset.iloc[0, i_convention]\n",
    "#     if isinstance(convention_list, float):\n",
    "#         continue\n",
    "#     convention_list = convention_list.split(\";\")\n",
    "#     for i in range(len(convention_list)):\n",
    "#         convention_list[i] = convention_list[i].replace(\"(\", \"\").replace(\")\", \"\").split(\",\")\n",
    "#     for rfid in data[\"rfid\"]:#data needs to be combination of all projec\n",
    "#         passed = False\n",
    "#         for convention in convention_list:\n",
    "#             prefix = convention[0]\n",
    "#             length = int(convention[1])\n",
    "#             passed = passed + qc_rfid(rfid, prefix, length)\n",
    "#         if not passed:\n",
    "#             print(rfid, project)\n",
    "#all issues for current project list are resolved"
   ]
  },
  {
   "cell_type": "code",
   "execution_count": 20,
   "id": "053c9f8b",
   "metadata": {},
   "outputs": [],
   "source": [
    "#data.to_csv(r'C:\\Users\\cocoy\\Dropbox (Palmer Lab)\\Palmer Lab\\Shae Ziegler\\Suzanne_Mitchell_U01\\wfu_master.csv', index=False)"
   ]
  },
  {
   "cell_type": "code",
   "execution_count": 21,
   "id": "47cde6c4",
   "metadata": {},
   "outputs": [
    {
     "data": {
      "text/plain": [
       "4.0     140\n",
       "6.0      88\n",
       "5.0      85\n",
       "3.0      85\n",
       "2.0      78\n",
       "1.0      56\n",
       "7.0      54\n",
       "8.0      40\n",
       "9.0      12\n",
       "10.0      2\n",
       "Name: litternumber, dtype: int64"
      ]
     },
     "execution_count": 21,
     "metadata": {},
     "output_type": "execute_result"
    }
   ],
   "source": [
    "data.litternumber.value_counts()"
   ]
  },
  {
   "cell_type": "code",
   "execution_count": null,
   "id": "5121e77c",
   "metadata": {},
   "outputs": [],
   "source": []
  }
 ],
 "metadata": {
  "kernelspec": {
   "display_name": "Python 3 (ipykernel)",
   "language": "python",
   "name": "python3"
  },
  "language_info": {
   "codemirror_mode": {
    "name": "ipython",
    "version": 3
   },
   "file_extension": ".py",
   "mimetype": "text/x-python",
   "name": "python",
   "nbconvert_exporter": "python",
   "pygments_lexer": "ipython3",
   "version": "3.9.7"
  }
 },
 "nbformat": 4,
 "nbformat_minor": 5
}
