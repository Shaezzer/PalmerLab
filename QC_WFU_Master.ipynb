{
 "cells": [
  {
   "cell_type": "code",
   "execution_count": 27,
   "id": "3963619f",
   "metadata": {},
   "outputs": [],
   "source": [
    "import pandas as pd\n",
    "import numpy as np\n",
    "import os\n",
    "from datetime import datetime\n",
    "import datetime\n",
    "import psycopg2\n",
    "from sqlalchemy import create_engine\n",
    "import sqlalchemy\n",
    "import matplotlib.pyplot as plt\n",
    "import seaborn as sns"
   ]
  },
  {
   "cell_type": "code",
   "execution_count": 4,
   "id": "bc779516",
   "metadata": {
    "scrolled": true
   },
   "outputs": [],
   "source": [
    "def runQuery(query):\n",
    "\n",
    "    cursor = connection.cursor()\n",
    "    if \"SELECT\" in query:\n",
    "        table = pd.read_sql(query, con = connection)\n",
    "    elif \"UPDATE\" in query:\n",
    "        cursor.execute(query)\n",
    "        print(query)\n",
    "        connection.commit()\n",
    "    elif \"DELETE\" in query:\n",
    "        cursor.execute(query)\n",
    "        print(query)\n",
    "        connection.commit()\n",
    "    else:\n",
    "        return None\n",
    "    if connection:\n",
    "        cursor.close()\n",
    "        connection.close()\n",
    "        if \"SELECT\" in query:\n",
    "            return table\n",
    "        else:\n",
    "            return\n",
    "\n",
    "\n",
    "data = runQuery(\"SELECT * FROM u01_suzanne_mitchell.wfu_master\")\n"
   ]
  },
  {
   "cell_type": "code",
   "execution_count": 5,
   "id": "f5a7ef4c",
   "metadata": {},
   "outputs": [
    {
     "name": "stdout",
     "output_type": "stream",
     "text": [
      "C01 sires total 100 dups 34\n",
      "C01 dames total 100 dups 34\n",
      "C02 sires total 110 dups 44\n",
      "C02 dames total 110 dups 44\n",
      "C03 sires total 100 dups 40\n",
      "C03 dames total 100 dups 40\n",
      "C04 sires total 100 dups 48\n",
      "C04 dames total 100 dups 48\n",
      "C05 sires total 100 dups 51\n",
      "C05 dames total 100 dups 51\n",
      "C06 sires total 100 dups 50\n",
      "C06 dames total 100 dups 50\n",
      "C07 sires total 291 dups 99\n",
      "C07 dames total 291 dups 99\n",
      "listed as dame and sire ['nan']\n",
      "parent pairs 396\n",
      "parent pair across multiple cohorts found ['C01', 'C02']\n",
      "parent pair across multiple cohorts found ['C01', 'C02']\n",
      "parent pair across multiple cohorts found ['C01', 'C02']\n",
      "parent pair across multiple cohorts found ['C01', 'C02']\n",
      "parent pair across multiple cohorts found ['C01', 'C02']\n",
      "parent pair across multiple cohorts found ['C02', 'C03']\n",
      "parent pair across multiple cohorts found ['C02', 'C03']\n",
      "parent pair across multiple cohorts found ['C04', 'C06']\n",
      "parent pair across multiple cohorts found ['C04', 'C06']\n",
      "parent pair across multiple cohorts found ['C04', 'C06']\n",
      "parent pair across multiple cohorts found ['C04', 'C06']\n",
      "parent pair across multiple cohorts found ['C05', 'C06']\n",
      "parent pair across multiple cohorts found ['C05', 'C06']\n",
      "parent pair across multiple cohorts found ['C05', 'C06']\n",
      "parent pair across multiple cohorts found ['C05', 'C06']\n",
      "parent pair across multiple cohorts found ['C05', 'C06']\n",
      "parent pair across multiple cohorts found ['C05', 'C06']\n",
      "parent pair across multiple cohorts found ['C05', 'C06']\n",
      "parent pair across multiple cohorts found ['C05', 'C06']\n",
      "parent pair across multiple cohorts found ['C05', 'C06']\n",
      "[ 8.  7. 13. 15. 11.  9.  6.  5. 10. 14.  3. 12.  4.  2. 16.  1.]\n",
      "[ 8.  7. 13. 15. 11.  9.  6.  5. 10. 14.  3. 12.  4.  2. 16.  1.]\n",
      "[ 4.  6.  8. 11.  7. 12.  9.  3.  5.  2. 10.  1. -1. 13. 15. 14.  0. -2.\n",
      " -4.]\n",
      "{('72539_1', '72595_5'): [datetime.date(2018, 9, 24), datetime.date(2018, 9, 24), datetime.date(2018, 9, 24), datetime.date(2018, 9, 24)], ('72624_1', '72596_4'): [datetime.date(2018, 9, 23)], ('72808_1', '72777_2'): [datetime.date(2018, 9, 23), datetime.date(2018, 9, 23), datetime.date(2018, 9, 23), datetime.date(2019, 1, 31), datetime.date(2019, 1, 31)], ('73309_1', '73312_1'): [datetime.date(2018, 9, 24), datetime.date(2018, 9, 24), datetime.date(2018, 9, 24), datetime.date(2018, 9, 24)], ('72794_1', '72775_4'): [datetime.date(2018, 9, 25), datetime.date(2018, 9, 25), datetime.date(2018, 9, 25), datetime.date(2018, 9, 25)], ('72772_3', '72866_1'): [datetime.date(2018, 9, 25), datetime.date(2018, 9, 25), datetime.date(2018, 9, 25)], ('72801_1', '72905_2'): [datetime.date(2018, 10, 4)], ('72792_1', '72779_2'): [datetime.date(2018, 9, 25), datetime.date(2018, 9, 25)], ('73317_1', '73319_1'): [datetime.date(2018, 9, 25), datetime.date(2018, 9, 25)], ('73358_1', '73360_1'): [datetime.date(2018, 9, 25), datetime.date(2018, 9, 25)], ('72785_1', '72809_2'): [datetime.date(2018, 9, 26), datetime.date(2018, 9, 26), datetime.date(2018, 9, 26)], ('72663_1', '72526_2'): [datetime.date(2018, 9, 26), datetime.date(2018, 9, 26), datetime.date(2018, 9, 26)], ('73325_1', '73327_1'): [datetime.date(2018, 9, 26), datetime.date(2018, 9, 26), datetime.date(2019, 1, 30), datetime.date(2019, 1, 30)], ('72793_3', '72801_2'): [datetime.date(2018, 9, 27), datetime.date(2018, 9, 27), datetime.date(2018, 9, 27)], ('73312_3', '73352_2'): [datetime.date(2018, 9, 27), datetime.date(2018, 9, 27), datetime.date(2018, 9, 27), datetime.date(2018, 9, 27)], ('73342_2', '73325_2'): [datetime.date(2018, 9, 27), datetime.date(2018, 9, 27), datetime.date(2018, 9, 27), datetime.date(2018, 9, 27)], ('72632_1', '72623_2'): [datetime.date(2018, 9, 28), datetime.date(2018, 9, 28), datetime.date(2018, 9, 28), datetime.date(2018, 9, 28)], ('72803_1', '72936_2'): [datetime.date(2018, 9, 28), datetime.date(2019, 1, 26)], ('72534_5', '72525_2'): [datetime.date(2018, 9, 29), datetime.date(2018, 9, 29), datetime.date(2018, 9, 29), datetime.date(2018, 9, 29)], ('72795_1', '72797_2'): [datetime.date(2018, 9, 29), datetime.date(2018, 9, 29), datetime.date(2018, 9, 29)], ('72775_3', '72782_4'): [datetime.date(2018, 9, 29), datetime.date(2018, 9, 29)], ('72535_1', '72632_2'): [datetime.date(2018, 9, 30), datetime.date(2018, 9, 30), datetime.date(2018, 9, 30), datetime.date(2018, 9, 30)], ('72625_1', '72539_2'): [datetime.date(2018, 9, 30), datetime.date(2018, 9, 30), datetime.date(2018, 9, 30), datetime.date(2018, 9, 30)], ('72689_1', '72541_5'): [datetime.date(2018, 9, 30), datetime.date(2018, 9, 30), datetime.date(2018, 9, 30), datetime.date(2018, 9, 30)], ('72525_1', '72618_2'): [datetime.date(2018, 9, 30), datetime.date(2018, 9, 30), datetime.date(2018, 9, 30), datetime.date(2018, 9, 30)], ('72668_1', '72663_2'): [datetime.date(2018, 10, 1), datetime.date(2018, 10, 1), datetime.date(2018, 10, 1), datetime.date(2018, 10, 1)], ('72618_1', '72668_2'): [datetime.date(2018, 10, 1), datetime.date(2018, 10, 1), datetime.date(2018, 10, 1), datetime.date(2018, 10, 1)], ('72787_1', '72785_2'): [datetime.date(2018, 10, 1), datetime.date(2018, 10, 1)], ('72784_1', '72802_2'): [datetime.date(2018, 10, 1), datetime.date(2018, 10, 1), datetime.date(2019, 1, 22), datetime.date(2019, 1, 22)], ('72660_1', '72626_6'): [datetime.date(2018, 10, 2), datetime.date(2018, 10, 2), datetime.date(2018, 10, 2), datetime.date(2018, 10, 2)], ('72527_1', '72667_2'): [datetime.date(2018, 10, 2), datetime.date(2018, 10, 2), datetime.date(2018, 10, 2)], ('72797_1', '72945_1'): [datetime.date(2018, 10, 2), datetime.date(2018, 10, 2), datetime.date(2018, 10, 2)], ('72782_3', '72778_4'): [datetime.date(2018, 10, 2), datetime.date(2018, 10, 2), datetime.date(2019, 1, 27), datetime.date(2019, 1, 27)], ('72620_1', '72665_1'): [datetime.date(2018, 10, 3)], ('73382_1', '73198_2'): [datetime.date(2019, 1, 20), datetime.date(2019, 1, 20), datetime.date(2019, 5, 4)], ('72805_1', '72790_2'): [datetime.date(2019, 1, 21), datetime.date(2019, 1, 21), datetime.date(2019, 1, 21), datetime.date(2019, 1, 21)], ('73207_1', '73189_2'): [datetime.date(2019, 1, 21), datetime.date(2019, 1, 21)], ('73188_1', '73174_2'): [datetime.date(2019, 1, 21), datetime.date(2019, 1, 21)], ('73169_1', '73412_1'): [datetime.date(2019, 1, 21), datetime.date(2019, 1, 21)], ('72789_1', '73020_2'): [datetime.date(2019, 1, 22), datetime.date(2019, 1, 22), datetime.date(2019, 1, 22)], ('72935_1', '72807_2'): [datetime.date(2019, 1, 23), datetime.date(2019, 1, 23), datetime.date(2019, 1, 23), datetime.date(2019, 1, 23)], ('73337_2', '73340_2'): [datetime.date(2019, 1, 23), datetime.date(2019, 1, 23), datetime.date(2019, 1, 23), datetime.date(2019, 1, 23)], ('73171_1', '73207_2'): [datetime.date(2019, 1, 23), datetime.date(2019, 1, 23)], ('72778_3', '72792_2'): [datetime.date(2019, 1, 24), datetime.date(2019, 1, 24)], ('73167_1', '73192_2'): [datetime.date(2019, 1, 24), datetime.date(2019, 1, 24)], ('73150_1', '73209_2'): [datetime.date(2019, 1, 24), datetime.date(2019, 1, 24), datetime.date(2019, 1, 24)], ('73203_1', '73152_2'): [datetime.date(2019, 1, 24), datetime.date(2019, 1, 24), datetime.date(2019, 1, 24), datetime.date(2019, 1, 24)], ('73411_2', '73156_2'): [datetime.date(2019, 1, 24), datetime.date(2019, 1, 24)], ('73435_2', '73188_2'): [datetime.date(2019, 1, 24), datetime.date(2019, 1, 24)], ('73174_1', '73151_2'): [datetime.date(2019, 1, 24), datetime.date(2019, 1, 24)], ('73424_2', '73168_2'): [datetime.date(2019, 1, 24), datetime.date(2019, 1, 24)], ('72799_1', '72789_2'): [datetime.date(2019, 1, 26), datetime.date(2019, 1, 26)], ('73151_1', '73398_1'): [datetime.date(2019, 1, 24), datetime.date(2019, 1, 24)], ('73243_3', '73206_2'): [datetime.date(2019, 1, 26), datetime.date(2019, 1, 26)], ('73436_2', '73229_2'): [datetime.date(2019, 1, 26), datetime.date(2019, 1, 26)], ('72952_1', '72871_1'): [datetime.date(2019, 1, 27), datetime.date(2019, 1, 27), datetime.date(2019, 1, 27), datetime.date(2019, 1, 27)], ('73165_1', '73155_2'): [datetime.date(2019, 1, 27), datetime.date(2019, 1, 27)], ('72936_1', '72803_2'): [datetime.date(2019, 1, 27), datetime.date(2019, 1, 27), datetime.date(2019, 1, 27)], ('72979_1', '72907_2'): [datetime.date(2019, 1, 27), datetime.date(2019, 1, 27), datetime.date(2019, 1, 27), datetime.date(2019, 1, 27)], ('73306_5', '73311_3'): [datetime.date(2019, 1, 27), datetime.date(2019, 1, 27)], ('73152_1', '73267_2'): [datetime.date(2019, 1, 27), datetime.date(2019, 1, 27)], ('73184_1', '73136_2'): [datetime.date(2019, 1, 27), datetime.date(2019, 1, 27)], ('73439_2', '73227_1'): [datetime.date(2019, 1, 27), datetime.date(2019, 1, 27), datetime.date(2019, 5, 17)], ('73232_1', '73175_2'): [datetime.date(2019, 1, 27), datetime.date(2019, 1, 27)], ('73327_2', '73345_2'): [datetime.date(2019, 1, 28), datetime.date(2019, 1, 28), datetime.date(2019, 1, 28), datetime.date(2019, 1, 28)], ('73512_1', '73511_1'): [datetime.date(2019, 1, 28), datetime.date(2019, 1, 28), datetime.date(2019, 1, 28)], ('73340_1', '73342_1'): [datetime.date(2019, 1, 29), datetime.date(2019, 1, 29), datetime.date(2019, 1, 29), datetime.date(2019, 1, 29)], ('72292_4', '73332_2'): [datetime.date(2019, 1, 29), datetime.date(2019, 1, 29), datetime.date(2019, 1, 29), datetime.date(2019, 1, 29)], ('72905_1', '72773_4'): [datetime.date(2019, 1, 31), datetime.date(2019, 1, 31)], ('73191_1', '73204_2'): [datetime.date(2019, 1, 31)], ('73399_2', '73378_1'): [datetime.date(2019, 1, 31), datetime.date(2019, 1, 31)], ('72774_3', '72772_4'): [datetime.date(2019, 1, 31), datetime.date(2019, 1, 31), datetime.date(2019, 1, 31), datetime.date(2019, 1, 31)], ('73283_1', '73435_1'): [datetime.date(2019, 2, 2), datetime.date(2019, 2, 2)], ('73192_1', '73183_2'): [datetime.date(2019, 5, 4), datetime.date(2019, 5, 4)], ('73192_1', '73208_2'): [datetime.date(2019, 5, 4)], ('73382_1', '73804_1'): [datetime.date(2019, 5, 4)], ('73669_1', '73198_2'): [datetime.date(2019, 5, 4)], ('73192_1', '73668_2'): [datetime.date(2019, 5, 4)], ('73669_1', '73724_2'): [datetime.date(2019, 5, 4)], ('73400_2', '73183_2'): [datetime.date(2019, 5, 6)], ('73400_2', '73770_2'): [datetime.date(2019, 5, 6)], ('73400_2', '73668_2'): [datetime.date(2019, 5, 6)], ('73400_2', '73724_2'): [datetime.date(2019, 5, 6)], ('73376_2', '73183_2'): [datetime.date(2019, 5, 7)], ('73376_2', '73770_2'): [datetime.date(2019, 5, 7)], ('73376_2', '73993_1'): [datetime.date(2019, 5, 7)], ('73376_2', '73878_2'): [datetime.date(2019, 5, 7)], ('73189_1', '73410_1'): [datetime.date(2019, 5, 7), datetime.date(2019, 5, 7)], ('73736_1', '73410_1'): [datetime.date(2019, 5, 7)], ('73189_1', '73993_1'): [datetime.date(2019, 5, 7)], ('73736_1', '73878_2'): [datetime.date(2019, 5, 7)], ('73673_1', '73410_1'): [datetime.date(2019, 5, 7)], ('73189_1', '73192_2'): [datetime.date(2019, 5, 7)], ('73673_1', '73152_2'): [datetime.date(2019, 5, 7)], ('73171_1', '73232_2'): [datetime.date(2019, 5, 8)], ('73784_1', '73232_2'): [datetime.date(2019, 5, 8)], ('73171_1', '73192_2'): [datetime.date(2019, 5, 8)], ('73784_1', '73152_2'): [datetime.date(2019, 5, 8)], ('73728_1', '73232_2'): [datetime.date(2019, 5, 8)], ('73674_1', '73232_2'): [datetime.date(2019, 5, 8)], ('73728_1', '73168_2'): [datetime.date(2019, 5, 8)], ('73674_1', '73229_2'): [datetime.date(2019, 5, 8)], ('73875_1', '73376_1'): [datetime.date(2019, 5, 8)], ('73411_2', '73687_2'): [datetime.date(2019, 5, 9)], ('73875_1', '73168_2'): [datetime.date(2019, 5, 8)], ('73411_2', '73229_2'): [datetime.date(2019, 5, 9)], ('73209_1', '73376_1'): [datetime.date(2019, 5, 9)], ('73209_1', '73687_2'): [datetime.date(2019, 5, 9)], ('73209_1', '73670_2'): [datetime.date(2019, 5, 9)], ('73209_1', '73725_2'): [datetime.date(2019, 5, 9)], ('73737_1', '73376_1'): [datetime.date(2019, 5, 9)], ('73742_1', '73735_2'): [datetime.date(2019, 5, 9)], ('73737_1', '73670_2'): [datetime.date(2019, 5, 9)], ('73742_1', '73725_2'): [datetime.date(2019, 5, 9)], ('73398_2', '73376_1'): [datetime.date(2019, 5, 10)], ('73398_2', '73735_2'): [datetime.date(2019, 5, 10)], ('73398_2', '73504_4'): [datetime.date(2019, 5, 10), datetime.date(2019, 5, 10)], ('73878_1', '73207_2'): [datetime.date(2019, 5, 10)], ('73692_1', '73676_2'): [datetime.date(2019, 5, 11)], ('73175_1', '73504_4'): [datetime.date(2019, 5, 10)], ('73692_1', '73504_4'): [datetime.date(2019, 5, 11)], ('73768_1', '73207_2'): [datetime.date(2019, 5, 12)], ('73785_1', '73676_2'): [datetime.date(2019, 5, 12)], ('73768_1', '73189_2'): [datetime.date(2019, 5, 12)], ('73785_1', '73742_2'): [datetime.date(2019, 5, 12)], ('73671_1', '73692_2'): [datetime.date(2019, 5, 12)], ('73665_1', '73719_2'): [datetime.date(2019, 5, 12)], ('73671_1', '73189_2'): [datetime.date(2019, 5, 12)], ('73665_1', '73742_2'): [datetime.date(2019, 5, 12)], ('73167_1', '73692_2'): [datetime.date(2019, 5, 13)], ('73203_1', '73719_2'): [datetime.date(2019, 5, 13)], ('73167_1', '73380_1'): [datetime.date(2019, 5, 13)], ('73203_1', '73380_1'): [datetime.date(2019, 5, 13)], ('73424_2', '73726_2'): [datetime.date(2019, 5, 13)], ('73436_2', '73156_2'): [datetime.date(2019, 5, 13)], ('73424_2', '73380_1'): [datetime.date(2019, 5, 13)], ('73436_2', '73380_1'): [datetime.date(2019, 5, 13)], ('73770_1', '73726_2'): [datetime.date(2019, 5, 13)], ('73783_1', '73156_2'): [datetime.date(2019, 5, 14)], ('73770_1', '73437_1'): [datetime.date(2019, 5, 13)], ('73783_1', '73731_2'): [datetime.date(2019, 5, 14)], ('73505_1', '73380_1'): [datetime.date(2019, 5, 14), datetime.date(2019, 5, 14)], ('73505_1', '73437_1'): [datetime.date(2019, 5, 14), datetime.date(2019, 5, 14)], ('73207_1', '73380_1'): [datetime.date(2019, 5, 15)], ('73706_1', '73380_1'): [datetime.date(2019, 5, 15)], ('73207_1', '73399_1'): [datetime.date(2019, 5, 15)], ('73706_1', '73399_1'): [datetime.date(2019, 5, 15)], ('73209_1', '73667_2'): [datetime.date(2019, 5, 16)], ('73209_1', '73671_2'): [datetime.date(2019, 5, 16)], ('73209_1', '73399_1'): [datetime.date(2019, 5, 16), datetime.date(2019, 5, 16)], ('73378_2', '73667_2'): [datetime.date(2019, 5, 16)], ('73744_1', '73671_2'): [datetime.date(2019, 5, 16)], ('73378_2', '73382_2'): [datetime.date(2019, 5, 16), datetime.date(2019, 5, 16)], ('73228_1', '73169_2'): [datetime.date(2019, 5, 16), datetime.date(2019, 5, 16)], ('73228_1', '73382_2'): [datetime.date(2019, 5, 16), datetime.date(2019, 5, 16)], ('73229_1', '73169_2'): [datetime.date(2019, 5, 16), datetime.date(2019, 5, 16)], ('73229_1', '73689_2'): [datetime.date(2019, 5, 16)], ('73229_1', '73227_1'): [datetime.date(2019, 5, 16)], ('73698_1', '73783_2'): [datetime.date(2019, 5, 16)], ('73439_2', '73804_1'): [datetime.date(2019, 5, 17)], ('73698_1', '73689_2'): [datetime.date(2019, 5, 16)], ('74133_1', '74144_2'): [datetime.date(2019, 8, 24)], ('73735_1', '73705_2'): [datetime.date(2019, 8, 25), datetime.date(2019, 8, 25)], ('73732_1', '73686_2'): [datetime.date(2019, 8, 31)], ('73745_1', '73718_2'): [datetime.date(2019, 8, 25), datetime.date(2019, 8, 25)], ('73727_1', '73782_2'): [datetime.date(2019, 8, 25), datetime.date(2019, 8, 25)], ('73740_1', '73747_2'): [datetime.date(2019, 8, 25), datetime.date(2019, 8, 25)], ('74147_1', '74217_4'): [datetime.date(2019, 8, 25), datetime.date(2019, 8, 25)], ('74180_1', '74133_2'): [datetime.date(2019, 8, 25), datetime.date(2019, 8, 25)], ('74195_1', '74228_2'): [datetime.date(2019, 8, 25), datetime.date(2019, 8, 25)], ('74193_1', '74194_2'): [datetime.date(2019, 8, 27), datetime.date(2019, 8, 27)], ('74136_1', '74113_2'): [datetime.date(2019, 8, 27), datetime.date(2019, 8, 27)], ('73724_1', '73853_2'): [datetime.date(2019, 8, 28), datetime.date(2019, 8, 28)], ('74155_1', '74145_2'): [datetime.date(2019, 8, 28), datetime.date(2019, 8, 28)], ('74169_1', '74192_2'): [datetime.date(2019, 8, 28), datetime.date(2019, 8, 28)], ('74126_1', '74180_2'): [datetime.date(2019, 8, 28), datetime.date(2019, 8, 28)], ('74188_1', '74199_2'): [datetime.date(2019, 8, 28), datetime.date(2019, 8, 28)], ('73705_1', '73736_2'): [datetime.date(2019, 8, 29), datetime.date(2019, 8, 29)], ('74145_1', '74204_2'): [datetime.date(2019, 8, 29), datetime.date(2019, 8, 29), datetime.date(2020, 1, 25), datetime.date(2020, 1, 25)], ('74200_1', '74168_2'): [datetime.date(2019, 8, 29), datetime.date(2019, 8, 29)], ('74194_1', '74167_2'): [datetime.date(2019, 8, 29), datetime.date(2019, 8, 29)], ('74177_1', '74165_2'): [datetime.date(2019, 8, 30), datetime.date(2019, 8, 30), datetime.date(2020, 1, 25), datetime.date(2020, 1, 25)], ('73704_1', '73745_2'): [datetime.date(2019, 8, 31), datetime.date(2019, 8, 31)], ('74168_1', '74188_2'): [datetime.date(2019, 8, 31), datetime.date(2019, 8, 31)], ('74232_1', '74203_2'): [datetime.date(2019, 8, 31), datetime.date(2019, 8, 31)], ('74165_1', '74201_2'): [datetime.date(2019, 8, 31), datetime.date(2019, 8, 31)], ('73722_1', '73673_2'): [datetime.date(2019, 8, 31), datetime.date(2019, 8, 31)], ('73853_1', '73874_2'): [datetime.date(2019, 8, 31), datetime.date(2019, 8, 31)], ('74217_3', '74208_2'): [datetime.date(2019, 9, 1), datetime.date(2019, 9, 1), datetime.date(2020, 1, 28), datetime.date(2020, 1, 28)], ('73858_1', '73875_2'): [datetime.date(2019, 9, 2), datetime.date(2019, 9, 2)], ('74164_1', '74200_2'): [datetime.date(2019, 9, 3), datetime.date(2019, 9, 3), datetime.date(2019, 9, 3), datetime.date(2019, 9, 3)], ('74199_1', '74141_2'): [datetime.date(2019, 9, 3), datetime.date(2019, 9, 3), datetime.date(2019, 9, 3), datetime.date(2019, 9, 3)], ('73747_1', '73669_2'): [datetime.date(2019, 9, 4), datetime.date(2019, 9, 4)], ('73731_1', '73733_2'): [datetime.date(2019, 9, 4), datetime.date(2019, 9, 4)], ('74140_1', '74189_2'): [datetime.date(2019, 9, 4), datetime.date(2019, 9, 4), datetime.date(2019, 9, 4), datetime.date(2019, 9, 4)], ('74134_1', '74187_2'): [datetime.date(2019, 9, 4), datetime.date(2019, 9, 4)], ('73690_1', '73701_2'): [datetime.date(2019, 9, 5), datetime.date(2019, 9, 5)], ('74201_1', '74122_2'): [datetime.date(2019, 9, 5), datetime.date(2019, 9, 5)], ('74205_1', '74148_2'): [datetime.date(2019, 9, 5), datetime.date(2019, 9, 5)], ('74142_1', '74207_2'): [datetime.date(2019, 9, 5), datetime.date(2019, 9, 5), datetime.date(2020, 1, 28), datetime.date(2020, 1, 29)], ('73719_1', '73666_2'): [datetime.date(2019, 9, 6), datetime.date(2019, 9, 6)], ('73668_1', '73706_2'): [datetime.date(2019, 9, 6), datetime.date(2019, 9, 6)], ('73782_1', '73728_2'): [datetime.date(2019, 9, 6), datetime.date(2019, 9, 6)], ('73686_1', '73732_2'): [datetime.date(2019, 9, 6), datetime.date(2019, 9, 6)], ('74192_1', '74125_2'): [datetime.date(2019, 9, 6), datetime.date(2019, 9, 6)], ('74204_1', '74140_2'): [datetime.date(2019, 9, 6), datetime.date(2019, 9, 6)], ('74148_1', '74236_2'): [datetime.date(2019, 9, 6), datetime.date(2019, 9, 6)], ('74189_1', '74116_2'): [datetime.date(2019, 9, 6), datetime.date(2019, 9, 6)], ('74203_1', '74126_2'): [datetime.date(2019, 9, 6), datetime.date(2019, 9, 6)], ('74207_1', '74155_2'): [datetime.date(2019, 12, 21), datetime.date(2019, 12, 21)], ('74784_1', '74728_1'): [datetime.date(2019, 12, 21)], ('74552_1', '74780_1'): [datetime.date(2019, 12, 21)], ('74763_2', '74528_2'): [datetime.date(2019, 12, 21), datetime.date(2019, 12, 21)], ('74228_1', '74195_2'): [datetime.date(2019, 12, 22), datetime.date(2019, 12, 22)], ('74196_1', '74121_2'): [datetime.date(2019, 12, 22), datetime.date(2019, 12, 22)], ('74128_1', '74193_2'): [datetime.date(2019, 12, 22), datetime.date(2019, 12, 22)], ('74528_1', '74531_2'): [datetime.date(2019, 12, 22)], ('74574_1', '74551_2'): [datetime.date(2019, 12, 22), datetime.date(2019, 12, 22), datetime.date(2019, 12, 30), datetime.date(2019, 12, 30)], ('74862_3', '74718_1'): [datetime.date(2019, 12, 22)], ('74781_1', '74542_2'): [datetime.date(2019, 12, 22), datetime.date(2019, 12, 22)], ('74752_1', '74508_2'): [datetime.date(2019, 12, 23), datetime.date(2019, 12, 23)], ('74156_1', '74134_2'): [datetime.date(2019, 12, 24), datetime.date(2019, 12, 24)], ('74179_1', '74164_2'): [datetime.date(2019, 12, 24), datetime.date(2019, 12, 24)], ('74509_1', '74794_1'): [datetime.date(2019, 12, 24), datetime.date(2019, 12, 24)], ('74609_1', '74703_5'): [datetime.date(2019, 12, 24), datetime.date(2019, 12, 24)], ('74689_1', '74692_2'): [datetime.date(2019, 12, 24), datetime.date(2019, 12, 24)], ('74842_1', '74541_2'): [datetime.date(2019, 12, 24), datetime.date(2019, 12, 24)], ('74584_1', '74563_2'): [datetime.date(2019, 12, 25), datetime.date(2019, 12, 25)], ('74814_1', '74773_1'): [datetime.date(2019, 12, 25), datetime.date(2019, 12, 25)], ('74561_1', '74850_1'): [datetime.date(2019, 12, 25), datetime.date(2019, 12, 25)], ('74117_1', '74135_2'): [datetime.date(2019, 12, 26), datetime.date(2019, 12, 26)], ('74115_1', '74123_2'): [datetime.date(2019, 12, 26), datetime.date(2019, 12, 26)], ('74791_1', '74689_2'): [datetime.date(2019, 12, 26), datetime.date(2019, 12, 26)], ('74595_1', '74575_2'): [datetime.date(2019, 12, 26), datetime.date(2019, 12, 26)], ('74753_1', '74708_1'): [datetime.date(2019, 12, 26), datetime.date(2019, 12, 26), datetime.date(2020, 1, 25), datetime.date(2020, 1, 25)], ('74566_1', '74599_2'): [datetime.date(2019, 12, 26), datetime.date(2019, 12, 26)], ('74536_1', '74539_2'): [datetime.date(2019, 12, 26), datetime.date(2019, 12, 26)], ('74599_1', '74566_2'): [datetime.date(2019, 12, 26), datetime.date(2019, 12, 26), datetime.date(2020, 1, 25), datetime.date(2020, 1, 25)], ('74577_1', '74593_2'): [datetime.date(2019, 12, 25), datetime.date(2019, 12, 25)], ('74121_1', '74232_2'): [datetime.date(2019, 12, 27), datetime.date(2019, 12, 27)], ('74543_1', '74564_2'): [datetime.date(2019, 12, 27), datetime.date(2019, 12, 27)], ('74512_1', '74562_2'): [datetime.date(2019, 12, 27), datetime.date(2019, 12, 27)], ('74198_1', '74156_2'): [datetime.date(2019, 12, 28), datetime.date(2019, 12, 28), datetime.date(2020, 2, 3), datetime.date(2020, 2, 3)], ('74125_1', '74177_2'): [datetime.date(2019, 12, 28), datetime.date(2019, 12, 28), datetime.date(2020, 1, 26), datetime.date(2020, 1, 26)], ('74575_1', '74576_2'): [datetime.date(2019, 12, 28), datetime.date(2019, 12, 28), datetime.date(2020, 1, 26), datetime.date(2020, 1, 26)], ('74564_1', '74543_2'): [datetime.date(2019, 12, 29), datetime.date(2019, 12, 29)], ('74550_1', '74503_2'): [datetime.date(2019, 12, 29), datetime.date(2019, 12, 29), datetime.date(2020, 1, 26), datetime.date(2020, 1, 26)], ('74594_1', '74727_1'): [datetime.date(2019, 12, 30), datetime.date(2019, 12, 30)], ('74135_1', '74112_2'): [datetime.date(2019, 12, 31), datetime.date(2019, 12, 31)], ('74530_1', '74504_2'): [datetime.date(2019, 12, 31), datetime.date(2019, 12, 31), datetime.date(2020, 1, 27), datetime.date(2020, 1, 27)], ('74535_1', '74594_2'): [datetime.date(2019, 12, 29), datetime.date(2019, 12, 29)], ('74506_1', '74807_1'): [datetime.date(2019, 12, 31), datetime.date(2019, 12, 31)], ('74510_1', '74538_2'): [datetime.date(2019, 12, 31), datetime.date(2019, 12, 31), datetime.date(2020, 1, 27), datetime.date(2020, 1, 27)], ('74559_1', '74831_1'): [datetime.date(2019, 12, 31), datetime.date(2019, 12, 31)], ('74706_1', '74510_2'): [datetime.date(2019, 12, 31), datetime.date(2019, 12, 31)], ('74539_1', '74511_2'): [datetime.date(2020, 1, 1), datetime.date(2020, 1, 1), datetime.date(2020, 1, 29), datetime.date(2020, 1, 29)], ('74531_1', '74574_2'): [datetime.date(2020, 1, 1), datetime.date(2020, 1, 1)], ('74112_1', '74111_2'): [datetime.date(2020, 1, 2), datetime.date(2020, 1, 2)], ('74504_1', '74585_2'): [datetime.date(2020, 1, 3), datetime.date(2020, 1, 3)], ('74688_1', '74615_2'): [datetime.date(2020, 1, 2), datetime.date(2020, 1, 2)], ('74116_1', '74191_2'): [datetime.date(2020, 1, 19), datetime.date(2020, 1, 19)], ('74187_1', '74179_2'): [datetime.date(2020, 1, 20), datetime.date(2020, 1, 20)], ('74111_1', '74143_2'): [datetime.date(2020, 1, 20), datetime.date(2020, 1, 20)], ('74596_1', '74552_2'): [datetime.date(2020, 1, 21), datetime.date(2020, 1, 21)], ('74541_1', '74506_2'): [datetime.date(2020, 1, 22), datetime.date(2020, 1, 22)], ('74508_1', '74532_2'): [datetime.date(2020, 1, 22), datetime.date(2020, 1, 22)], ('74804_1', '74760_1'): [datetime.date(2020, 1, 23), datetime.date(2020, 1, 23)], ('74127_1', '74202_2'): [datetime.date(2020, 1, 24), datetime.date(2020, 1, 24)], ('74811_1', '74808_1'): [datetime.date(2020, 1, 25), datetime.date(2020, 1, 25)], ('74544_1', '74658_2'): [datetime.date(2020, 1, 27), datetime.date(2020, 1, 27)], ('74565_1', '74598_2'): [datetime.date(2020, 1, 28), datetime.date(2020, 1, 28)], ('74511_1', '74862_2'): [datetime.date(2020, 1, 29), datetime.date(2020, 1, 29)], ('74637_1', '74604_10'): [datetime.date(2020, 1, 29), datetime.date(2020, 1, 29)], ('74592_1', '74559_2'): [datetime.date(2020, 1, 29), datetime.date(2020, 1, 29)], ('74143_1', '74142_2'): [datetime.date(2020, 1, 30), datetime.date(2020, 1, 30)], ('74507_1', '74609_2'): [datetime.date(2020, 1, 30), datetime.date(2020, 1, 30)], ('74141_1', '74206_2'): [datetime.date(2020, 2, 1), datetime.date(2020, 2, 1)], ('74560_1', '74502_2'): [datetime.date(2020, 2, 1), datetime.date(2020, 2, 1)], ('74719_1', '74565_2'): [datetime.date(2020, 2, 2), datetime.date(2020, 2, 2)], ('74585_1', '74748_1'): [datetime.date(2020, 2, 2), datetime.date(2020, 2, 2)], ('74542_1', '74763_1'): [datetime.date(2020, 2, 2), datetime.date(2020, 2, 2)], ('74540_1', '74597_2'): [datetime.date(2020, 2, 2), datetime.date(2020, 2, 2)], ('74562_1', '74795_1'): [datetime.date(2020, 2, 2), datetime.date(2020, 2, 2)], ('74761_1', '74596_2'): [datetime.date(2020, 2, 3), datetime.date(2020, 2, 3)], ('74715_1', '74783_1'): [datetime.date(2020, 2, 3), datetime.date(2020, 2, 3)], ('74583_2', '74536_2'): [datetime.date(2020, 2, 3), datetime.date(2020, 2, 3)], ('74537_1', '74584_2'): [datetime.date(2020, 2, 4), datetime.date(2020, 2, 4)], ('74862_1', '74540_2'): [datetime.date(2020, 2, 4), datetime.date(2020, 2, 4)], ('74576_1', '74764_1'): [datetime.date(2020, 2, 4), datetime.date(2020, 2, 4)], ('74701_1', '74686_2'): [datetime.date(2020, 2, 5), datetime.date(2020, 2, 5)], ('74167_1', '74198_2'): [datetime.date(2020, 2, 6), datetime.date(2020, 2, 6)], ('74202_1', '74117_2'): [datetime.date(2020, 2, 6), datetime.date(2020, 2, 6)], ('74699_1', '74560_2'): [datetime.date(2020, 2, 6), datetime.date(2020, 2, 6)], ('74716_1', '74535_2'): [datetime.date(2020, 2, 6), datetime.date(2020, 2, 6)], ('74687_1', '74638_2'): [datetime.date(2020, 2, 7), datetime.date(2020, 2, 7)], ('74563_1', '74505_2'): [datetime.date(2020, 2, 7), datetime.date(2020, 2, 7)], ('74775_1', '74534_2'): [datetime.date(2020, 2, 7), datetime.date(2020, 2, 7)], ('933000320187260', '933000320186979'): [datetime.date(2020, 7, 24), datetime.date(2020, 7, 24), datetime.date(2020, 7, 24), datetime.date(2020, 7, 24)], ('933000320048065', '933000320187413'): [datetime.date(2020, 8, 15), datetime.date(2020, 8, 15)], ('933000320187159', '933000320187373'): [datetime.date(2020, 8, 2), datetime.date(2020, 8, 2), datetime.date(2020, 8, 2), datetime.date(2020, 8, 2)], ('933000320187431', '933000320048057'): [datetime.date(2020, 8, 15), datetime.date(2020, 8, 15)], ('933000320187192', '933000320048193'): [datetime.date(2020, 8, 29), datetime.date(2020, 8, 29), datetime.date(2020, 8, 29)], ('933000320048197', '933000320187188'): [datetime.date(2020, 7, 24), datetime.date(2020, 7, 24), datetime.date(2020, 7, 24), datetime.date(2020, 7, 24)], ('933000320187418', '933000320187270'): [datetime.date(2020, 7, 31), datetime.date(2020, 7, 31), datetime.date(2020, 7, 31), datetime.date(2020, 7, 31), datetime.date(2020, 7, 31)], ('933000320048176', '933000320048227'): [datetime.date(2020, 8, 7), datetime.date(2020, 8, 7), datetime.date(2020, 8, 7)], ('933000320187131', '933000320048250'): [datetime.date(2020, 8, 26)], ('933000320048056', '933000320187414'): [datetime.date(2020, 8, 15), datetime.date(2020, 8, 15)], ('933000320186973', '933000320187372'): [datetime.date(2020, 7, 31), datetime.date(2020, 7, 31)], ('933000320187386', '933000320187155'): [datetime.date(2020, 7, 24), datetime.date(2020, 7, 24), datetime.date(2020, 7, 24), datetime.date(2020, 7, 24)], ('933000320187363', '933000320187175'): [datetime.date(2020, 7, 26), datetime.date(2020, 7, 26), datetime.date(2020, 7, 26)], ('933000320187212', '933000320187173'): [datetime.date(2020, 8, 14), datetime.date(2020, 8, 14)], ('933000320187401', '933000320187085'): [datetime.date(2020, 7, 24), datetime.date(2020, 7, 24), datetime.date(2020, 7, 24), datetime.date(2020, 7, 24)], ('933000320187421', '933000320186896'): [datetime.date(2020, 7, 25), datetime.date(2020, 7, 25), datetime.date(2020, 7, 25), datetime.date(2020, 7, 25)], ('933000320187000', '933000320186976'): [datetime.date(2020, 7, 24), datetime.date(2020, 7, 24), datetime.date(2020, 7, 24), datetime.date(2020, 7, 24)], ('933000320187344', '933000320187245'): [datetime.date(2020, 7, 24), datetime.date(2020, 7, 24), datetime.date(2020, 7, 24), datetime.date(2020, 7, 24)], ('933000320186884', '933000320186981'): [datetime.date(2020, 7, 26), datetime.date(2020, 7, 26), datetime.date(2020, 7, 26), datetime.date(2020, 7, 26), datetime.date(2020, 7, 26)], ('933000320187354', '933000320186893'): [datetime.date(2020, 7, 24), datetime.date(2020, 7, 24), datetime.date(2020, 7, 24)], ('933000320187379', '933000320187097'): [datetime.date(2020, 7, 24), datetime.date(2020, 7, 24), datetime.date(2020, 7, 24), datetime.date(2020, 7, 24)], ('933000320187232', '933000320187348'): [datetime.date(2020, 7, 24), datetime.date(2020, 7, 24), datetime.date(2020, 7, 24), datetime.date(2020, 7, 24)], ('933000320048238', '933000320186985'): [datetime.date(2020, 7, 26), datetime.date(2020, 7, 26), datetime.date(2020, 7, 26)], ('933000320187199', '933000320187406'): [datetime.date(2020, 8, 17), datetime.date(2020, 8, 17)], ('933000320187417', '933000320186970'): [datetime.date(2020, 7, 28), datetime.date(2020, 7, 28), datetime.date(2020, 7, 28)], ('933000320186992', '933000320186969'): [datetime.date(2020, 7, 27), datetime.date(2020, 7, 27), datetime.date(2020, 7, 27)], ('933000320187364', '933000320187141'): [datetime.date(2020, 7, 27), datetime.date(2020, 7, 27), datetime.date(2020, 7, 27), datetime.date(2020, 7, 27)], ('933000320186984', '933000320186962'): [datetime.date(2020, 7, 26), datetime.date(2020, 7, 26), datetime.date(2020, 7, 26), datetime.date(2020, 7, 26)], ('933000320187435', '933000320187154'): [datetime.date(2020, 7, 27), datetime.date(2020, 7, 27), datetime.date(2020, 7, 27), datetime.date(2020, 7, 27)], ('933000320187438', '933000320187404'): [datetime.date(2020, 8, 16), datetime.date(2020, 8, 16)], ('933000320187223', '933000320187423'): [datetime.date(2020, 8, 18), datetime.date(2020, 8, 18)], ('933000320187189', '933000320048195'): [datetime.date(2020, 8, 17), datetime.date(2020, 8, 17)], ('933000320187165', '933000320187209'): [datetime.date(2020, 8, 15), datetime.date(2020, 9, 5), datetime.date(2020, 9, 5)], ('933000320187450', '933000320187429'): [datetime.date(2020, 8, 16), datetime.date(2020, 8, 16)], ('933000320187422', '933000320187361'): [datetime.date(2020, 8, 15), datetime.date(2020, 8, 15)], ('933000320187362', '933000320048187'): [datetime.date(2020, 8, 15), datetime.date(2020, 8, 15)], ('933000320048243', '933000320187419'): [datetime.date(2020, 8, 15), datetime.date(2020, 8, 15)], ('933000320048200', '933000320187149'): [datetime.date(2020, 7, 24), datetime.date(2020, 7, 24), datetime.date(2020, 7, 24), datetime.date(2020, 7, 24)], ('933000320186889', '933000320186958'): [datetime.date(2020, 7, 24), datetime.date(2020, 7, 24), datetime.date(2020, 7, 24), datetime.date(2020, 7, 24)], ('933000320187157', '933000320187240'): [datetime.date(2020, 7, 24), datetime.date(2020, 7, 24), datetime.date(2020, 7, 24), datetime.date(2020, 7, 24)], ('933000320187302', '933000320187194'): [datetime.date(2020, 7, 31), datetime.date(2020, 7, 31), datetime.date(2020, 7, 31), datetime.date(2020, 7, 31), datetime.date(2020, 7, 31)], ('933000320048241', '933000320187251'): [datetime.date(2020, 7, 31), datetime.date(2020, 7, 31), datetime.date(2020, 7, 31), datetime.date(2020, 7, 31)], ('933000320187430', '933000320187365'): [datetime.date(2020, 7, 31), datetime.date(2020, 7, 31), datetime.date(2020, 7, 31)], ('933000320187387', '933000320187190'): [datetime.date(2020, 7, 31), datetime.date(2020, 7, 31), datetime.date(2020, 7, 31), datetime.date(2020, 7, 31)], ('933000320048235', '933000320187214'): [datetime.date(2020, 8, 1), datetime.date(2020, 8, 1), datetime.date(2020, 8, 1), datetime.date(2020, 8, 1)], ('933000320187127', '933000320187356'): [datetime.date(2020, 8, 1), datetime.date(2020, 8, 1), datetime.date(2020, 8, 1), datetime.date(2020, 8, 1)], ('933000320187403', '933000320187360'): [datetime.date(2020, 7, 31), datetime.date(2020, 7, 31), datetime.date(2020, 7, 31), datetime.date(2020, 7, 31), datetime.date(2020, 7, 31)], ('933000320048228', '933000320187191'): [datetime.date(2020, 8, 1), datetime.date(2020, 8, 1), datetime.date(2020, 8, 1)], ('933000320186879', '933000320187358'): [datetime.date(2020, 7, 31), datetime.date(2020, 7, 31)], ('933000320187321', '933000320187337'): [datetime.date(2020, 7, 31), datetime.date(2020, 7, 31), datetime.date(2020, 7, 31), datetime.date(2020, 7, 31)], ('933000320187352', '933000320187162'): [datetime.date(2020, 8, 8), datetime.date(2020, 8, 8)], ('933000320048194', '933000320187239'): [datetime.date(2020, 8, 8), datetime.date(2020, 8, 8), datetime.date(2020, 8, 8)], ('933000320048249', '933000320187261'): [datetime.date(2020, 8, 2), datetime.date(2020, 8, 2), datetime.date(2020, 8, 2), datetime.date(2020, 8, 2)], ('933000320187355', '933000320187367'): [datetime.date(2020, 8, 2), datetime.date(2020, 8, 2), datetime.date(2020, 8, 2), datetime.date(2020, 8, 2)], ('933000320048054', '933000320187368'): [datetime.date(2020, 8, 2), datetime.date(2020, 8, 2), datetime.date(2020, 8, 2)], ('933000320187096', '933000320186876'): [datetime.date(2020, 8, 2), datetime.date(2020, 8, 2), datetime.date(2020, 8, 2), datetime.date(2020, 8, 2)], ('933000320186961', '933000320187345'): [datetime.date(2020, 8, 2), datetime.date(2020, 8, 2), datetime.date(2020, 8, 2), datetime.date(2020, 8, 2)], ('933000320186982', '933000320187203'): [datetime.date(2020, 8, 2), datetime.date(2020, 8, 2), datetime.date(2020, 8, 2)], ('933000320187374', '933000320187090'): [datetime.date(2020, 8, 2), datetime.date(2020, 8, 2), datetime.date(2020, 8, 2), datetime.date(2020, 8, 2)], ('933000320048183', '933000320187370'): [datetime.date(2020, 8, 2), datetime.date(2020, 8, 2)], ('933000320048184', '933000320048188'): [datetime.date(2020, 8, 7), datetime.date(2020, 8, 7), datetime.date(2020, 8, 7)], ('933000320048246', '933000320048226'): [datetime.date(2020, 8, 8), datetime.date(2020, 8, 8), datetime.date(2020, 8, 8)], ('933000320187366', '933000320187219'): [datetime.date(2020, 9, 3), datetime.date(2020, 8, 8), datetime.date(2020, 8, 8), datetime.date(2020, 8, 8)], ('933000320187405', '933000320187411'): [datetime.date(2020, 8, 28), datetime.date(2020, 8, 28), datetime.date(2020, 8, 28)], ('933000320187443', '933000320187409'): [datetime.date(2020, 8, 17), datetime.date(2020, 8, 17)], ('933000320187371', '933000320187412'): [datetime.date(2020, 8, 17), datetime.date(2020, 8, 17)], ('933000320048236', '933000320048192'): [datetime.date(2020, 8, 8), datetime.date(2020, 8, 8), datetime.date(2020, 8, 8)], ('933000320187420', '933000320187426'): [datetime.date(2020, 8, 15), datetime.date(2020, 8, 15)], ('933000320187415', '933000320048185'): [datetime.date(2020, 8, 14), datetime.date(2020, 8, 14)], ('933000320187236', '933000320187449'): [datetime.date(2020, 8, 14), datetime.date(2020, 8, 14)], ('933000320186971', '933000320187381'): [datetime.date(2020, 8, 20), datetime.date(2020, 8, 20)], ('933000320187259', '933000320048051'): [datetime.date(2020, 8, 27), datetime.date(2020, 8, 27), datetime.date(2020, 8, 27)], ('933000320048232', '933000320048244'): [datetime.date(2020, 8, 20), datetime.date(2020, 8, 20)], ('933000320187207', '933000320187407'): [datetime.date(2020, 9, 3)], ('933000320048074', '933000320187416'): [datetime.date(2020, 8, 29), datetime.date(2020, 8, 29), datetime.date(2020, 8, 29)], ('933000320187076', '933000320187410'): [datetime.date(2020, 8, 17), datetime.date(2020, 8, 17)], ('933000320048199', '933000320187390'): [datetime.date(2020, 8, 10), datetime.date(2020, 8, 10)], ('933000320187428', '933000320048191'): [datetime.date(2020, 8, 8), datetime.date(2020, 8, 8), datetime.date(2020, 8, 8)], ('933000320186968', '933000320186891'): [datetime.date(2020, 8, 11), datetime.date(2020, 8, 11)], ('933000320187408', '933000320187441'): [datetime.date(2020, 8, 14), datetime.date(2020, 8, 14)], ('933000320186892', '933000320048059'): [datetime.date(2020, 8, 14), datetime.date(2020, 8, 14)], ('933000320187448', '933000320187432'): [datetime.date(2020, 8, 20), datetime.date(2020, 8, 20)], ('933000320187369', '933000320048248'): [datetime.date(2020, 8, 21), datetime.date(2020, 8, 21)], ('933000320187402', '933000320187427'): [datetime.date(2020, 8, 14), datetime.date(2020, 8, 14)], ('nan', 'nan'): [datetime.date(2020, 9, 30), datetime.date(2020, 10, 3), datetime.date(2020, 9, 26), datetime.date(2020, 9, 30), datetime.date(2020, 9, 26), datetime.date(2020, 9, 26)], ('933000320048179', '933000320048230'): [datetime.date(2020, 8, 9), datetime.date(2020, 8, 9)], ('933000320187375', '933000320048178'): [datetime.date(2020, 8, 14), datetime.date(2020, 8, 14)], ('933000320187187', '933000320048239'): [datetime.date(2020, 8, 7), datetime.date(2020, 8, 7)], ('933000320048189', '933000320048233'): [datetime.date(2020, 8, 9), datetime.date(2020, 8, 9)], ('933000320187079', '933000320187439'): [datetime.date(2020, 8, 8), datetime.date(2020, 8, 8), datetime.date(2020, 8, 8)], ('933000320048180', '933000320187442'): [datetime.date(2020, 8, 7), datetime.date(2020, 8, 7), datetime.date(2020, 8, 7)], ('933000320048240', '933000320048231'): [datetime.date(2020, 8, 11), datetime.date(2020, 8, 11)], ('933000320187160', '933000320048198'): [datetime.date(2020, 8, 10), datetime.date(2020, 8, 10)], ('933000320187217', '933000320048245'): [datetime.date(2020, 8, 9), datetime.date(2020, 8, 9)], ('933000320187249', '933000320048234'): [datetime.date(2020, 8, 8), datetime.date(2020, 8, 8), datetime.date(2020, 8, 8)], ('933000320048237', '933000320048247'): [datetime.date(2020, 8, 8), datetime.date(2020, 8, 8), datetime.date(2020, 8, 8)], ('933000320187233', '933000320187433'): [datetime.date(2020, 8, 8), datetime.date(2020, 8, 8), datetime.date(2020, 8, 8)], ('933000320187153', '933000320187383'): [datetime.date(2020, 8, 9), datetime.date(2020, 8, 9)], ('933000320048190', '933000320187377'): [datetime.date(2020, 8, 9), datetime.date(2020, 8, 9)]}\n"
     ]
    }
   ],
   "source": [
    "def qc_pedigree(data):\n",
    "    data = data.sort_values([\"cohort\", \"labanimalid\"])\n",
    "    # Printing number of mothers and fathers per cohort\n",
    "    for cohort in np.unique(data[\"cohort\"]):\n",
    "        subset = data[data[\"cohort\"] == cohort]\n",
    "        sires = list(subset[\"sires\"])\n",
    "        dames = list(subset[\"dames\"])\n",
    "        print(cohort, \"sires\", \"total\", len(sires), \"dups\", len(set(sires)))\n",
    "        print(cohort, \"dames\", \"total\", len(dames), \"dups\", len(set(dames)))\n",
    "    # Printing animals listed as mother and father\n",
    "    sires = list(data[\"sires\"])\n",
    "    dames = list(data[\"dames\"])\n",
    "    overlap = set(dames).intersection(set(sires))\n",
    "    #print(\"sires\", len(set(sires)), \"dames\", len(set(dames)), \"overlap\", len(overlap))\n",
    "    print(\"listed as dame and sire\", list(overlap))\n",
    "    # Checking sibling numbers\n",
    "    parents_dict = {}\n",
    "    parents_litter_birth = {}\n",
    "    dob = []\n",
    "    litter = []\n",
    "    parents_df = pd.DataFrame()\n",
    "    for index, row in data.iterrows():\n",
    "        parents = (row[\"sires\"], row[\"dames\"])\n",
    "        \n",
    "        if parents in parents_dict.keys():\n",
    "            parents_dict[parents].append(row[\"rfid\"])\n",
    "            parents_litter_birth[parents].append(row[\"dob\"])\n",
    "        else:\n",
    "            dob.append(row['dob'])\n",
    "            litter.append(row['littersize'])\n",
    "            parents_dict[parents] = [row[\"rfid\"]]\n",
    "            parents_litter_birth[parents] = [row[\"dob\"]]\n",
    "            parents_df = parents_df.append({'sires':row[\"sires\"],'dames':row[\"dames\"]},ignore_index = True)\n",
    "    print(\"parent pairs\", len(parents_dict.keys()))\n",
    "    siblings = []\n",
    "    for parents in parents_dict.keys():\n",
    "        #print(parents, len(parents_dict[parents]))#, parents_dict[parents])\n",
    "        siblings.append(len(parents_dict[parents]))\n",
    "        cohorts = []\n",
    "        for rfid in parents_dict[parents]:\n",
    "            subset = data[data[\"rfid\"] == rfid]\n",
    "            subset.index = range(subset.shape[0])\n",
    "            i_cohort = list(subset.columns).index(\"cohort\")\n",
    "            cohorts.append(subset.iloc[0, i_cohort])\n",
    "        cohorts = list(np.unique(cohorts))\n",
    "        if len(cohorts) != 1:\n",
    "            print(\"parent pair across multiple cohorts found\", cohorts)\n",
    "    parents_df['siblings'] = siblings\n",
    "    parents_df['dob'] = dob\n",
    "    parents_df['litter_size'] = litter\n",
    "    parents_df['removed_litter'] = parents_df['litter_size'] - parents_df['siblings']\n",
    "\n",
    "    #print(parents_df)\n",
    "    print(parents_df.litter_size.unique())\n",
    "    print(data.littersize.unique())\n",
    "    print(parents_df.removed_litter.unique())\n",
    "    df_litter_error = parents_df[(parents_df['removed_litter'] <= 0)]\n",
    "    print(parents_litter_birth)\n",
    "    return\n",
    "qc_pedigree(data)"
   ]
  },
  {
   "cell_type": "code",
   "execution_count": 6,
   "id": "e01f97c2",
   "metadata": {},
   "outputs": [
    {
     "data": {
      "text/plain": [
       "array(['C01', 'C04', 'C05', 'C02', 'C03', 'C06', 'C07'], dtype=object)"
      ]
     },
     "execution_count": 6,
     "metadata": {},
     "output_type": "execute_result"
    }
   ],
   "source": [
    "#Split data based on cohorts\n",
    "#each cohort has their own df named after their cohort. Ex. C07\n",
    "cohorts = data.cohort.unique()\n",
    "for i in cohorts:\n",
    "    a = data[data.cohort == i]\n",
    "    globals()[f\"{i}\"] = a\n",
    "cohorts    "
   ]
  },
  {
   "cell_type": "code",
   "execution_count": 7,
   "id": "79a00040",
   "metadata": {},
   "outputs": [
    {
     "data": {
      "text/plain": [
       "{'C01': datetime.timedelta(days=11),\n",
       " 'C04': datetime.timedelta(days=13),\n",
       " 'C05': datetime.timedelta(days=13),\n",
       " 'C02': datetime.timedelta(days=13),\n",
       " 'C03': datetime.timedelta(days=13),\n",
       " 'C06': datetime.timedelta(days=19),\n",
       " 'C07': datetime.timedelta(days=71)}"
      ]
     },
     "execution_count": 7,
     "metadata": {},
     "output_type": "execute_result"
    }
   ],
   "source": [
    "#Check that the dob for each cohort is within a certain range\n",
    "#right now just outputs the cohort with the day span\n",
    "dob_range = {}\n",
    "for i in cohorts:\n",
    "    globals()[f\"dates_{i}\"] = globals()[f\"{i}\"].dob.unique()\n",
    "    oldest = min(globals()[f\"dates_{i}\"])\n",
    "    youngest = max(globals()[f\"dates_{i}\"])\n",
    "    difference = youngest - oldest\n",
    "    dob_range[i] = difference\n",
    "dob_range"
   ]
  },
  {
   "cell_type": "code",
   "execution_count": 8,
   "id": "6ac05c8a",
   "metadata": {},
   "outputs": [
    {
     "name": "stdout",
     "output_type": "stream",
     "text": [
      "['nan']\n"
     ]
    }
   ],
   "source": [
    "#Check if there are any matching ids between sires and dames\n",
    "unique_sires = data.sires.unique()\n",
    "unique_dames = data.dames.unique()\n",
    "print([x for x in unique_sires if x in unique_dames])\n"
   ]
  },
  {
   "cell_type": "code",
   "execution_count": 9,
   "id": "0fd9c868",
   "metadata": {},
   "outputs": [
    {
     "data": {
      "text/plain": [
       "array(['BROWNHOOD', 'ALBINO', 'BROWN', 'BLACK', 'BLACKHOOD'], dtype=object)"
      ]
     },
     "execution_count": 9,
     "metadata": {},
     "output_type": "execute_result"
    }
   ],
   "source": [
    "#Check namiing of coat colors\n",
    "unique_coats = data.coatcolor.unique()\n",
    "unique_coats\n"
   ]
  },
  {
   "cell_type": "code",
   "execution_count": 10,
   "id": "f0bde73d",
   "metadata": {},
   "outputs": [
    {
     "ename": "NameError",
     "evalue": "name 'select_metadata' is not defined",
     "output_type": "error",
     "traceback": [
      "\u001b[1;31m---------------------------------------------------------------------------\u001b[0m",
      "\u001b[1;31mNameError\u001b[0m                                 Traceback (most recent call last)",
      "\u001b[1;32m~\\AppData\\Local\\Temp/ipykernel_30248/813195697.py\u001b[0m in \u001b[0;36m<module>\u001b[1;34m\u001b[0m\n\u001b[0;32m      1\u001b[0m \u001b[1;31m# Fixing coatcolor in sample_metadata\u001b[0m\u001b[1;33m\u001b[0m\u001b[1;33m\u001b[0m\u001b[0m\n\u001b[0;32m      2\u001b[0m \u001b[0mtoFix\u001b[0m \u001b[1;33m=\u001b[0m \u001b[1;33m[\u001b[0m\u001b[1;33m]\u001b[0m\u001b[1;33m\u001b[0m\u001b[1;33m\u001b[0m\u001b[0m\n\u001b[1;32m----> 3\u001b[1;33m \u001b[0mmetadata\u001b[0m \u001b[1;33m=\u001b[0m \u001b[0mselect_metadata\u001b[0m\u001b[1;33m(\u001b[0m\u001b[1;33m)\u001b[0m\u001b[1;33m\u001b[0m\u001b[1;33m\u001b[0m\u001b[0m\n\u001b[0m\u001b[0;32m      4\u001b[0m \u001b[1;31m# metadata = select_wfu_master(\"u01_olivier_george_oxycodone\")\u001b[0m\u001b[1;33m\u001b[0m\u001b[1;33m\u001b[0m\u001b[0m\n\u001b[0;32m      5\u001b[0m \u001b[0mi_coatcolor\u001b[0m \u001b[1;33m=\u001b[0m \u001b[0mlist\u001b[0m\u001b[1;33m(\u001b[0m\u001b[0mmetadata\u001b[0m\u001b[1;33m.\u001b[0m\u001b[0mcolumns\u001b[0m\u001b[1;33m)\u001b[0m\u001b[1;33m.\u001b[0m\u001b[0mindex\u001b[0m\u001b[1;33m(\u001b[0m\u001b[1;34m\"coatcolor\"\u001b[0m\u001b[1;33m)\u001b[0m\u001b[1;33m\u001b[0m\u001b[1;33m\u001b[0m\u001b[0m\n",
      "\u001b[1;31mNameError\u001b[0m: name 'select_metadata' is not defined"
     ]
    }
   ],
   "source": [
    "# Fixing coatcolor in sample_metadata\n",
    "toFix = []\n",
    "metadata = select_metadata()\n",
    "# metadata = select_wfu_master(\"u01_olivier_george_oxycodone\")\n",
    "i_coatcolor = list(metadata.columns).index(\"coatcolor\")\n",
    "for index, row in metadata.iterrows():\n",
    "    coatcolor = metadata.iloc[index, i_coatcolor]\n",
    "    if coatcolor == \"BLK HOOD\":\n",
    "        coatcolor = \"BLACKHOOD\"\n",
    "    elif coatcolor == \"BRN HOOD\":\n",
    "        coatcolor = \"BROWNHOOD\"\n",
    "    elif coatcolor == \"BEN HOOD\":\n",
    "        coatcolor = \"BROWNHOOD\"\n",
    "    elif coatcolor == \"ALIBINO\":\n",
    "        coatcolor = \"ALBINO\"\n",
    "    coatcolor = coatcolor.replace(\" \", \"\")\n",
    "    if coatcolor != metadata.iloc[index, i_coatcolor]:\n",
    "        toFix.append(index)\n",
    "        metadata.iloc[index, i_coatcolor] = coatcolor\n",
    "metadata = metadata.iloc[toFix, :]\n",
    "metadata.index = range(metadata.shape[0])\n",
    "metadata"
   ]
  },
  {
   "cell_type": "code",
   "execution_count": null,
   "id": "718b6441",
   "metadata": {},
   "outputs": [],
   "source": [
    "project_metadata = pd.read_csv(\"project_metadata - project_metadata.csv\", dtype = str)\n",
    "i_convention = list(project_metadata.columns).index(\"rfid_convention\")\n",
    "for project in projects:\n",
    "    wfu_master = None\n",
    "    if project in dontInclude:\n",
    "        continue\n",
    "    elif project in differentTableName.keys():\n",
    "        table_name = project + \".\" + differentTableName[project]\n",
    "        query = \"SELECT * FROM \" + table_name\n",
    "        wfu_master = runQuery(query)\n",
    "    else:\n",
    "        wfu_master = select_wfu_master(project)\n",
    "    subset = project_metadata[project_metadata[\"project_name\"] == project]\n",
    "    subset.index = range(subset.shape[0])\n",
    "    convention_list = subset.iloc[0, i_convention]\n",
    "    if isinstance(convention_list, float):\n",
    "        continue\n",
    "    convention_list = convention_list.split(\";\")\n",
    "    for i in range(len(convention_list)):\n",
    "        convention_list[i] = convention_list[i].replace(\"(\", \"\").replace(\")\", \"\").split(\",\")\n",
    "    for rfid in wfu_master[\"rfid\"]:\n",
    "        passed = False\n",
    "        for convention in convention_list:\n",
    "            prefix = convention[0]\n",
    "            length = int(convention[1])\n",
    "            passed = passed + qc_rfid(rfid, prefix, length)\n",
    "        if not passed:\n",
    "            print(rfid, project)"
   ]
  },
  {
   "cell_type": "code",
   "execution_count": 23,
   "id": "db1a31b8",
   "metadata": {},
   "outputs": [
    {
     "data": {
      "text/html": [
       "<div>\n",
       "<style scoped>\n",
       "    .dataframe tbody tr th:only-of-type {\n",
       "        vertical-align: middle;\n",
       "    }\n",
       "\n",
       "    .dataframe tbody tr th {\n",
       "        vertical-align: top;\n",
       "    }\n",
       "\n",
       "    .dataframe thead th {\n",
       "        text-align: right;\n",
       "    }\n",
       "</style>\n",
       "<table border=\"1\" class=\"dataframe\">\n",
       "  <thead>\n",
       "    <tr style=\"text-align: right;\">\n",
       "      <th></th>\n",
       "      <th>cohort</th>\n",
       "      <th>sires</th>\n",
       "      <th>dames</th>\n",
       "      <th>labanimalid</th>\n",
       "      <th>accessid</th>\n",
       "      <th>sex</th>\n",
       "      <th>rfid</th>\n",
       "      <th>dob</th>\n",
       "      <th>dow</th>\n",
       "      <th>shipmentdate</th>\n",
       "      <th>...</th>\n",
       "      <th>coatcolor</th>\n",
       "      <th>earpunch</th>\n",
       "      <th>rack</th>\n",
       "      <th>shipmentbox</th>\n",
       "      <th>housingbox</th>\n",
       "      <th>shipmentage</th>\n",
       "      <th>weanage</th>\n",
       "      <th>comments</th>\n",
       "      <th>resolution</th>\n",
       "      <th>last_5</th>\n",
       "    </tr>\n",
       "  </thead>\n",
       "  <tbody>\n",
       "    <tr>\n",
       "      <th>0</th>\n",
       "      <td>C01</td>\n",
       "      <td>72539_1</td>\n",
       "      <td>72595_5</td>\n",
       "      <td>TJ008</td>\n",
       "      <td>73472_2</td>\n",
       "      <td>F</td>\n",
       "      <td>933000320045906</td>\n",
       "      <td>2018-09-24</td>\n",
       "      <td>2018-10-15</td>\n",
       "      <td>2018-10-30</td>\n",
       "      <td>...</td>\n",
       "      <td>BROWNHOOD</td>\n",
       "      <td>RB</td>\n",
       "      <td>D-F4</td>\n",
       "      <td>2.0</td>\n",
       "      <td>9999</td>\n",
       "      <td>36.0</td>\n",
       "      <td>21.0</td>\n",
       "      <td>Pregnant female/Impregnated</td>\n",
       "      <td>REMOVE_FROM_EXCLUSION_AND_REPLACE</td>\n",
       "      <td>45906</td>\n",
       "    </tr>\n",
       "    <tr>\n",
       "      <th>1</th>\n",
       "      <td>C01</td>\n",
       "      <td>73358_1</td>\n",
       "      <td>73360_1</td>\n",
       "      <td>TJ027</td>\n",
       "      <td>73477_2</td>\n",
       "      <td>F</td>\n",
       "      <td>933000320045890</td>\n",
       "      <td>2018-09-25</td>\n",
       "      <td>2018-10-16</td>\n",
       "      <td>2018-10-30</td>\n",
       "      <td>...</td>\n",
       "      <td>BROWNHOOD</td>\n",
       "      <td>LM</td>\n",
       "      <td>D-G8</td>\n",
       "      <td>4.0</td>\n",
       "      <td>32</td>\n",
       "      <td>35.0</td>\n",
       "      <td>21.0</td>\n",
       "      <td>NA</td>\n",
       "      <td>NA</td>\n",
       "      <td>45890</td>\n",
       "    </tr>\n",
       "    <tr>\n",
       "      <th>2</th>\n",
       "      <td>C01</td>\n",
       "      <td>72539_1</td>\n",
       "      <td>72595_5</td>\n",
       "      <td>TJ003</td>\n",
       "      <td>73472_8</td>\n",
       "      <td>M</td>\n",
       "      <td>933000320045902</td>\n",
       "      <td>2018-09-24</td>\n",
       "      <td>2018-10-15</td>\n",
       "      <td>2018-10-30</td>\n",
       "      <td>...</td>\n",
       "      <td>ALBINO</td>\n",
       "      <td>RT</td>\n",
       "      <td>D-F2</td>\n",
       "      <td>2.0</td>\n",
       "      <td>9999</td>\n",
       "      <td>36.0</td>\n",
       "      <td>21.0</td>\n",
       "      <td>Pregnant female/Impregnated</td>\n",
       "      <td>REMOVE_FROM_EXCLUSION_AND_REPLACE</td>\n",
       "      <td>45902</td>\n",
       "    </tr>\n",
       "    <tr>\n",
       "      <th>3</th>\n",
       "      <td>C01</td>\n",
       "      <td>72794_1</td>\n",
       "      <td>72775_4</td>\n",
       "      <td>TJ020</td>\n",
       "      <td>73475_4</td>\n",
       "      <td>F</td>\n",
       "      <td>933000320045904</td>\n",
       "      <td>2018-09-25</td>\n",
       "      <td>2018-10-16</td>\n",
       "      <td>2018-10-30</td>\n",
       "      <td>...</td>\n",
       "      <td>BROWN</td>\n",
       "      <td>RB</td>\n",
       "      <td>D-G2</td>\n",
       "      <td>2.0</td>\n",
       "      <td>9999</td>\n",
       "      <td>35.0</td>\n",
       "      <td>21.0</td>\n",
       "      <td>Pregnant female/Impregnated</td>\n",
       "      <td>REMOVE_FROM_EXCLUSION_AND_REPLACE</td>\n",
       "      <td>45904</td>\n",
       "    </tr>\n",
       "    <tr>\n",
       "      <th>4</th>\n",
       "      <td>C01</td>\n",
       "      <td>72624_1</td>\n",
       "      <td>72596_4</td>\n",
       "      <td>TJ002</td>\n",
       "      <td>73471_5</td>\n",
       "      <td>F</td>\n",
       "      <td>933000320045908</td>\n",
       "      <td>2018-09-23</td>\n",
       "      <td>2018-10-15</td>\n",
       "      <td>2018-10-30</td>\n",
       "      <td>...</td>\n",
       "      <td>BLACK</td>\n",
       "      <td>LT</td>\n",
       "      <td>D-F2</td>\n",
       "      <td>2.0</td>\n",
       "      <td>9999</td>\n",
       "      <td>37.0</td>\n",
       "      <td>22.0</td>\n",
       "      <td>Pregnant female/Impregnated</td>\n",
       "      <td>REMOVE_FROM_EXCLUSION_AND_REPLACE</td>\n",
       "      <td>45908</td>\n",
       "    </tr>\n",
       "    <tr>\n",
       "      <th>...</th>\n",
       "      <td>...</td>\n",
       "      <td>...</td>\n",
       "      <td>...</td>\n",
       "      <td>...</td>\n",
       "      <td>...</td>\n",
       "      <td>...</td>\n",
       "      <td>...</td>\n",
       "      <td>...</td>\n",
       "      <td>...</td>\n",
       "      <td>...</td>\n",
       "      <td>...</td>\n",
       "      <td>...</td>\n",
       "      <td>...</td>\n",
       "      <td>...</td>\n",
       "      <td>...</td>\n",
       "      <td>...</td>\n",
       "      <td>...</td>\n",
       "      <td>...</td>\n",
       "      <td>...</td>\n",
       "      <td>...</td>\n",
       "      <td>...</td>\n",
       "    </tr>\n",
       "    <tr>\n",
       "      <th>896</th>\n",
       "      <td>C07</td>\n",
       "      <td>933000320048190</td>\n",
       "      <td>933000320187377</td>\n",
       "      <td>NA</td>\n",
       "      <td>None</td>\n",
       "      <td>F</td>\n",
       "      <td>933000320125436</td>\n",
       "      <td>2020-08-09</td>\n",
       "      <td>2020-09-04</td>\n",
       "      <td>None</td>\n",
       "      <td>...</td>\n",
       "      <td>BLACK</td>\n",
       "      <td>None</td>\n",
       "      <td>None</td>\n",
       "      <td>NaN</td>\n",
       "      <td>None</td>\n",
       "      <td>NaN</td>\n",
       "      <td>26.0</td>\n",
       "      <td>NA</td>\n",
       "      <td>NA</td>\n",
       "      <td>25436</td>\n",
       "    </tr>\n",
       "    <tr>\n",
       "      <th>897</th>\n",
       "      <td>C07</td>\n",
       "      <td>933000320187153</td>\n",
       "      <td>933000320187383</td>\n",
       "      <td>NA</td>\n",
       "      <td>None</td>\n",
       "      <td>F</td>\n",
       "      <td>933000320125437</td>\n",
       "      <td>2020-08-09</td>\n",
       "      <td>2020-09-04</td>\n",
       "      <td>None</td>\n",
       "      <td>...</td>\n",
       "      <td>BROWNHOOD</td>\n",
       "      <td>None</td>\n",
       "      <td>None</td>\n",
       "      <td>NaN</td>\n",
       "      <td>None</td>\n",
       "      <td>NaN</td>\n",
       "      <td>26.0</td>\n",
       "      <td>NA</td>\n",
       "      <td>NA</td>\n",
       "      <td>25437</td>\n",
       "    </tr>\n",
       "    <tr>\n",
       "      <th>898</th>\n",
       "      <td>C07</td>\n",
       "      <td>933000320187217</td>\n",
       "      <td>933000320048245</td>\n",
       "      <td>NA</td>\n",
       "      <td>None</td>\n",
       "      <td>F</td>\n",
       "      <td>933000320125440</td>\n",
       "      <td>2020-08-09</td>\n",
       "      <td>2020-09-04</td>\n",
       "      <td>None</td>\n",
       "      <td>...</td>\n",
       "      <td>BROWN</td>\n",
       "      <td>None</td>\n",
       "      <td>None</td>\n",
       "      <td>NaN</td>\n",
       "      <td>None</td>\n",
       "      <td>NaN</td>\n",
       "      <td>26.0</td>\n",
       "      <td>NA</td>\n",
       "      <td>NA</td>\n",
       "      <td>25440</td>\n",
       "    </tr>\n",
       "    <tr>\n",
       "      <th>899</th>\n",
       "      <td>C07</td>\n",
       "      <td>933000320187249</td>\n",
       "      <td>933000320048234</td>\n",
       "      <td>NA</td>\n",
       "      <td>None</td>\n",
       "      <td>M</td>\n",
       "      <td>933000320125443</td>\n",
       "      <td>2020-08-08</td>\n",
       "      <td>2020-09-04</td>\n",
       "      <td>None</td>\n",
       "      <td>...</td>\n",
       "      <td>BLACKHOOD</td>\n",
       "      <td>None</td>\n",
       "      <td>None</td>\n",
       "      <td>NaN</td>\n",
       "      <td>None</td>\n",
       "      <td>NaN</td>\n",
       "      <td>27.0</td>\n",
       "      <td>NA</td>\n",
       "      <td>NA</td>\n",
       "      <td>25443</td>\n",
       "    </tr>\n",
       "    <tr>\n",
       "      <th>900</th>\n",
       "      <td>C07</td>\n",
       "      <td>933000320048237</td>\n",
       "      <td>933000320048247</td>\n",
       "      <td>NA</td>\n",
       "      <td>None</td>\n",
       "      <td>M</td>\n",
       "      <td>933000320125448</td>\n",
       "      <td>2020-08-08</td>\n",
       "      <td>2020-09-04</td>\n",
       "      <td>None</td>\n",
       "      <td>...</td>\n",
       "      <td>BROWNHOOD</td>\n",
       "      <td>None</td>\n",
       "      <td>None</td>\n",
       "      <td>NaN</td>\n",
       "      <td>None</td>\n",
       "      <td>NaN</td>\n",
       "      <td>27.0</td>\n",
       "      <td>NA</td>\n",
       "      <td>NA</td>\n",
       "      <td>25448</td>\n",
       "    </tr>\n",
       "  </tbody>\n",
       "</table>\n",
       "<p>901 rows × 22 columns</p>\n",
       "</div>"
      ],
      "text/plain": [
       "    cohort            sires            dames labanimalid accessid sex  \\\n",
       "0      C01          72539_1          72595_5       TJ008  73472_2   F   \n",
       "1      C01          73358_1          73360_1       TJ027  73477_2   F   \n",
       "2      C01          72539_1          72595_5       TJ003  73472_8   M   \n",
       "3      C01          72794_1          72775_4       TJ020  73475_4   F   \n",
       "4      C01          72624_1          72596_4       TJ002  73471_5   F   \n",
       "..     ...              ...              ...         ...      ...  ..   \n",
       "896    C07  933000320048190  933000320187377          NA     None   F   \n",
       "897    C07  933000320187153  933000320187383          NA     None   F   \n",
       "898    C07  933000320187217  933000320048245          NA     None   F   \n",
       "899    C07  933000320187249  933000320048234          NA     None   M   \n",
       "900    C07  933000320048237  933000320048247          NA     None   M   \n",
       "\n",
       "                rfid         dob         dow shipmentdate  ...  coatcolor  \\\n",
       "0    933000320045906  2018-09-24  2018-10-15   2018-10-30  ...  BROWNHOOD   \n",
       "1    933000320045890  2018-09-25  2018-10-16   2018-10-30  ...  BROWNHOOD   \n",
       "2    933000320045902  2018-09-24  2018-10-15   2018-10-30  ...     ALBINO   \n",
       "3    933000320045904  2018-09-25  2018-10-16   2018-10-30  ...      BROWN   \n",
       "4    933000320045908  2018-09-23  2018-10-15   2018-10-30  ...      BLACK   \n",
       "..               ...         ...         ...          ...  ...        ...   \n",
       "896  933000320125436  2020-08-09  2020-09-04         None  ...      BLACK   \n",
       "897  933000320125437  2020-08-09  2020-09-04         None  ...  BROWNHOOD   \n",
       "898  933000320125440  2020-08-09  2020-09-04         None  ...      BROWN   \n",
       "899  933000320125443  2020-08-08  2020-09-04         None  ...  BLACKHOOD   \n",
       "900  933000320125448  2020-08-08  2020-09-04         None  ...  BROWNHOOD   \n",
       "\n",
       "     earpunch  rack shipmentbox housingbox  shipmentage weanage  \\\n",
       "0          RB  D-F4         2.0       9999         36.0    21.0   \n",
       "1          LM  D-G8         4.0         32         35.0    21.0   \n",
       "2          RT  D-F2         2.0       9999         36.0    21.0   \n",
       "3          RB  D-G2         2.0       9999         35.0    21.0   \n",
       "4          LT  D-F2         2.0       9999         37.0    22.0   \n",
       "..        ...   ...         ...        ...          ...     ...   \n",
       "896      None  None         NaN       None          NaN    26.0   \n",
       "897      None  None         NaN       None          NaN    26.0   \n",
       "898      None  None         NaN       None          NaN    26.0   \n",
       "899      None  None         NaN       None          NaN    27.0   \n",
       "900      None  None         NaN       None          NaN    27.0   \n",
       "\n",
       "                        comments                         resolution last_5  \n",
       "0    Pregnant female/Impregnated  REMOVE_FROM_EXCLUSION_AND_REPLACE  45906  \n",
       "1                             NA                                 NA  45890  \n",
       "2    Pregnant female/Impregnated  REMOVE_FROM_EXCLUSION_AND_REPLACE  45902  \n",
       "3    Pregnant female/Impregnated  REMOVE_FROM_EXCLUSION_AND_REPLACE  45904  \n",
       "4    Pregnant female/Impregnated  REMOVE_FROM_EXCLUSION_AND_REPLACE  45908  \n",
       "..                           ...                                ...    ...  \n",
       "896                           NA                                 NA  25436  \n",
       "897                           NA                                 NA  25437  \n",
       "898                           NA                                 NA  25440  \n",
       "899                           NA                                 NA  25443  \n",
       "900                           NA                                 NA  25448  \n",
       "\n",
       "[901 rows x 22 columns]"
      ]
     },
     "execution_count": 23,
     "metadata": {},
     "output_type": "execute_result"
    }
   ],
   "source": [
    "data['rfid'] = data['rfid'].astype(str)\n",
    "data['last_5'] = data['rfid'].str.replace('9330003200','')\n",
    "data['last_5'] = data['last_5'].str.replace('9330003201','')\n",
    "data"
   ]
  },
  {
   "cell_type": "code",
   "execution_count": 25,
   "id": "65ea1640",
   "metadata": {},
   "outputs": [
    {
     "data": {
      "text/plain": [
       "array(['9999', '32', '2', '9', '1', '3', '4', '5', '6', '7', '8', '10',\n",
       "       '11', '12', '13', '14', '15', '16', '17', '18', '19', '20', '21',\n",
       "       '22', '23', '24', '25', '26', '27', '28', '29', '30', '31', '33',\n",
       "       '34', '35', '36', '37', '38', '39', '40', '41', '42', '43', '44',\n",
       "       '45', '46', '47', '48', '49', '50', '55', '54', '52', '51', '53',\n",
       "       'NA', None], dtype=object)"
      ]
     },
     "execution_count": 25,
     "metadata": {},
     "output_type": "execute_result"
    }
   ],
   "source": [
    "data.housingbox.unique()"
   ]
  },
  {
   "cell_type": "code",
   "execution_count": 24,
   "id": "0fa579d1",
   "metadata": {},
   "outputs": [],
   "source": [
    "data.to_csv(r'C:\\Users\\cocoy\\Dropbox (Palmer Lab)\\Palmer Lab\\Shae Ziegler\\Suzanne_Mitchell_U01\\wfu_master.csv', index=False)"
   ]
  },
  {
   "cell_type": "code",
   "execution_count": 34,
   "id": "a56bd617",
   "metadata": {},
   "outputs": [
    {
     "data": {
      "image/png": "[encoded data removed]",
      "text/plain": [
       "<Figure size 432x288 with 1 Axes>"
      ]
     },
     "metadata": {
      "needs_background": "light"
     },
     "output_type": "display_data"
    },
    {
     "data": {
      "image/png": "[encoded data removed]",
      "text/plain": [
       "<Figure size 432x288 with 1 Axes>"
      ]
     },
     "metadata": {
      "needs_background": "light"
     },
     "output_type": "display_data"
    },
    {
     "data": {
      "image/png": "[encoded data removed]",
      "text/plain": [
       "<Figure size 432x288 with 1 Axes>"
      ]
     },
     "metadata": {
      "needs_background": "light"
     },
     "output_type": "display_data"
    },
    {
     "data": {
      "image/png": "[encoded data removed]",
      "text/plain": [
       "<Figure size 432x288 with 1 Axes>"
      ]
     },
     "metadata": {
      "needs_background": "light"
     },
     "output_type": "display_data"
    },
    {
     "data": {
      "image/png": "[encoded data removed]",
      "text/plain": [
       "<Figure size 432x288 with 1 Axes>"
      ]
     },
     "metadata": {
      "needs_background": "light"
     },
     "output_type": "display_data"
    },
    {
     "data": {
      "image/png": "[encoded data removed]",
      "text/plain": [
       "<Figure size 432x288 with 1 Axes>"
      ]
     },
     "metadata": {
      "needs_background": "light"
     },
     "output_type": "display_data"
    },
    {
     "data": {
      "image/png": "[encoded data removed]",
      "text/plain": [
       "<Figure size 432x288 with 1 Axes>"
      ]
     },
     "metadata": {
      "needs_background": "light"
     },
     "output_type": "display_data"
    }
   ],
   "source": [
    "graph_columns = ['cohort','sex','dob','dow','coatcolor','weanage','housingbox']\n",
    "for col in graph_columns:\n",
    "    plt.title(col)\n",
    "    plt.xlabel('value')\n",
    "    plt.ylabel('count')\n",
    "    plt.xticks(rotation = 40)\n",
    "    plt.hist(data[col].dropna())\n",
    "    plt.show() "
   ]
  },
  {
   "cell_type": "code",
   "execution_count": null,
   "id": "6a5db49f",
   "metadata": {},
   "outputs": [],
   "source": []
  }
 ],
 "metadata": {
  "kernelspec": {
   "display_name": "Python 3 (ipykernel)",
   "language": "python",
   "name": "python3"
  },
  "language_info": {
   "codemirror_mode": {
    "name": "ipython",
    "version": 3
   },
   "file_extension": ".py",
   "mimetype": "text/x-python",
   "name": "python",
   "nbconvert_exporter": "python",
   "pygments_lexer": "ipython3",
   "version": "3.9.7"
  }
 },
 "nbformat": 4,
 "nbformat_minor": 5
}
